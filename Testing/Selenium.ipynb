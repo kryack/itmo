{
 "cells": [
  {
   "cell_type": "code",
   "execution_count": 1,
   "metadata": {},
   "outputs": [],
   "source": [
    "# https://habr.com/post/250921/\n",
    "\n",
    "from selenium import webdriver\n",
    "from selenium.webdriver.common.keys import Keys\n",
    "from selenium.common.exceptions import NoSuchElementException\n",
    "from selenium.webdriver.support.ui import Select\n",
    "\n",
    "import time\n",
    "import random"
   ]
  },
  {
   "cell_type": "markdown",
   "metadata": {},
   "source": [
    "# My mail\n"
   ]
  },
  {
   "cell_type": "markdown",
   "metadata": {},
   "source": [
    "## log-pass"
   ]
  },
  {
   "cell_type": "code",
   "execution_count": 373,
   "metadata": {},
   "outputs": [],
   "source": [
    "def login():\n",
    "    select = Select(driver.find_element_by_class_name(cls))\n",
    "    select.select_by_visible_text(\"@list.ru\")\n",
    "\n",
    "    class_name_logpass = \"l-loginform_row_label_input\"\n",
    "    login, password = driver.find_elements_by_class_name(class_name_logpass)\n",
    "\n",
    "    login.clear()\n",
    "    login.send_keys('evan99k')\n",
    "    password.send_keys('1q2w3e4', Keys.RETURN)\n",
    "    \n",
    "    assert 'Мой Мир@Mail.Ru' in driver.title\n",
    "    print('Вход в {} выполнен'.format(driver.title))"
   ]
  },
  {
   "cell_type": "markdown",
   "metadata": {},
   "source": [
    "## Group"
   ]
  },
  {
   "cell_type": "code",
   "execution_count": 417,
   "metadata": {},
   "outputs": [],
   "source": [
    "def group():\n",
    "    group_xpath = '//*[@id=\"LeftColumn\"]/div/div[1]/ul/li[7]/a'\n",
    "    groups = driver.find_element_by_xpath(group_xpath)\n",
    "    groups.click()\n",
    "    \n",
    "    time.sleep(2)\n",
    "    groups_name_class = \"groups__name\"\n",
    "    groups_name = driver.find_elements_by_class_name(groups_name_class)\n",
    "\n",
    "    #my_group = None\n",
    "    time.sleep(1)\n",
    "    for group in groups_name:\n",
    "        if group.text == 'Православные иконы':\n",
    "            my_group = group\n",
    "    print(my_group.text)\n",
    "    time.sleep(2)\n",
    "    my_group.click()\n",
    "    time.sleep(2)\n",
    "    assert 'Православные иконы - Группы Мой Мир' in driver.title\n",
    "    print('Произведен вход в группу:', driver.title)"
   ]
  },
  {
   "cell_type": "markdown",
   "metadata": {},
   "source": [
    "## Posts"
   ]
  },
  {
   "cell_type": "markdown",
   "metadata": {},
   "source": [
    "### Likes"
   ]
  },
  {
   "cell_type": "code",
   "execution_count": 448,
   "metadata": {},
   "outputs": [],
   "source": [
    "posts_class = 'b-history-event'\n",
    "\n",
    "def likes():\n",
    "    posts = driver.find_elements_by_class_name(posts_class)\n",
    "    likes = posts[2].find_element_by_class_name('b-like__button')\n",
    "\n",
    "    number = likes.find_element_by_class_name('b-like__button-counter__number')\n",
    "    number_before = int(number.text)\n",
    "\n",
    "    likes.click()\n",
    "\n",
    "    number = likes.find_element_by_class_name('b-like__button-counter__number')\n",
    "    number_after = int(number.text)\n",
    "\n",
    "    assert abs(number_after - number_before) == 1\n",
    "    print('Лайк поставлен/убран')"
   ]
  },
  {
   "cell_type": "markdown",
   "metadata": {},
   "source": [
    "### Comment"
   ]
  },
  {
   "cell_type": "code",
   "execution_count": 379,
   "metadata": {},
   "outputs": [],
   "source": [
    "def comment():\n",
    "    text = 'Добрый вечер, дорогие православные крестьяне. Мне пришлась по душе данная икона, но вот незадача: я студент, и не могу позволить себе ее купить. Скажите, пожалуйста, как ее можно достать? Быть может в какой-то церкви плохо следят за иконами? Или вы проведете конкурс репостов? Было бы очень благородно с вашей стороны! Желаю здоровья всем верующим, аминь.'\n",
    "    posts = driver.find_elements_by_class_name(posts_class)\n",
    "    comment = posts[4].find_element_by_class_name('b-comments__history-button')\n",
    "    comment.click()\n",
    "    \n",
    "    num_comment = posts[4].find_element_by_class_name('b-comments__history-button__number')\n",
    "\n",
    "    try:\n",
    "        number_before = int(num_comment.text)\n",
    "    except ValueError:\n",
    "        number_before = 0\n",
    "\n",
    "    write_comment = posts[4].find_element_by_class_name(\"b-comments-writer__textarea\")\n",
    "\n",
    "    write_comment.clear()\n",
    "    write_comment.send_keys(text)\n",
    "    \n",
    "    send_comment = posts[4].find_element_by_class_name('b-comments-writer__send-button')\n",
    "    send_comment.click()\n",
    "\n",
    "    time.sleep(1)\n",
    "    num_comment = posts[4].find_element_by_class_name('b-comments__history-button__number')\n",
    "    number_after = int(num_comment.text)\n",
    "    \n",
    "    assert abs(number_after - number_before) == 1\n",
    "    print('Запись прокоментирвоана')"
   ]
  },
  {
   "cell_type": "markdown",
   "metadata": {},
   "source": [
    "### Friends"
   ]
  },
  {
   "cell_type": "code",
   "execution_count": 442,
   "metadata": {},
   "outputs": [],
   "source": [
    "def add_friend():\n",
    "    \n",
    "    driver.execute_script(\"window.scrollTo(0, 0)\") \n",
    "\n",
    "    frineds = driver.find_element_by_xpath('//*[@id=\"profile\"]/div[2]/div[3]/a[2]')\n",
    "\n",
    "    time.sleep(2)\n",
    "    print(frineds.text)\n",
    "    frineds.click()\n",
    "    time.sleep(2)\n",
    "    humans = driver.find_elements_by_class_name('person')\n",
    "\n",
    "    rand_number = random.randint(0, len(humans) - 1)\n",
    "    print('Берем {}-го человека'.format(rand_number))\n",
    "\n",
    "    human = humans[rand_number]\n",
    "    human.click()\n",
    "    \n",
    "    try:\n",
    "        make_friend_class = 'profile__activeLinks_button'\n",
    "        make_friend = driver.find_element_by_class_name(make_friend_class)\n",
    "        print(make_friend.text)\n",
    "        make_friend.click()\n",
    "\n",
    "    except NoSuchElementException:\n",
    "        pass\n",
    "\n",
    "    finally:\n",
    "        check_class = 'profile__activeLinks_button_action'\n",
    "        check = driver.find_element_by_class_name(check_class)\n",
    "\n",
    "        print('Подписка оформлена: ', check.text)"
   ]
  },
  {
   "cell_type": "markdown",
   "metadata": {},
   "source": [
    "# Main"
   ]
  },
  {
   "cell_type": "code",
   "execution_count": 445,
   "metadata": {},
   "outputs": [],
   "source": [
    "driver = webdriver.Chrome('/home/r/Desktop/Testing/chromedriver')\n",
    "driver.get(\"https://my.mail.ru/\")"
   ]
  },
  {
   "cell_type": "code",
   "execution_count": 446,
   "metadata": {},
   "outputs": [
    {
     "name": "stdout",
     "output_type": "stream",
     "text": [
      "Вход в Мой Мир@Mail.Ru выполнен\n",
      "Православные иконы\n",
      "Произведен вход в группу: Православные иконы - Группы Мой Мир\n",
      "Лайк поставлен/убран\n",
      "Запись прокоментирвоана\n",
      "Участники 856\n",
      "Берем 1-го человека\n",
      "Подружиться\n",
      "Подписка оформлена:  Подружиться\n"
     ]
    }
   ],
   "source": [
    "login()\n",
    "group()\n",
    "likes()\n",
    "comment()\n",
    "add_friend()\n",
    "\n",
    "driver.close()"
   ]
  }
 ],
 "metadata": {
  "kernelspec": {
   "display_name": "mainpy",
   "language": "python",
   "name": "mainpy"
  },
  "language_info": {
   "codemirror_mode": {
    "name": "ipython",
    "version": 3
   },
   "file_extension": ".py",
   "mimetype": "text/x-python",
   "name": "python",
   "nbconvert_exporter": "python",
   "pygments_lexer": "ipython3",
   "version": "3.6.5"
  }
 },
 "nbformat": 4,
 "nbformat_minor": 2
}
