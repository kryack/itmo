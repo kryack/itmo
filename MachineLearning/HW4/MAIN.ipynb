{
 "cells": [
  {
   "cell_type": "code",
   "execution_count": 18,
   "metadata": {},
   "outputs": [],
   "source": [
    "from parser import Parser\n",
    "from itertools import product"
   ]
  },
  {
   "cell_type": "code",
   "execution_count": 14,
   "metadata": {},
   "outputs": [],
   "source": [
    "def element_wise_equal(a, b):\n",
    "    for i in range(0, len(a)):\n",
    "        if a[i] != b[i]:\n",
    "            return False\n",
    "    return True\n",
    "\n",
    "def get_dist_element(node, value, args_list):\n",
    "    args = []\n",
    "    for parent in node.parents:\n",
    "        args.append(args_list[nodes.index(parent)])\n",
    "    for key in node.dist:\n",
    "        if type(key[0]) == tuple:\n",
    "            conditions = key[1]\n",
    "            values = key[0]\n",
    "        else:\n",
    "            conditions = []\n",
    "            values = key\n",
    "        if element_wise_equal(conditions, args):\n",
    "            index = values.index(value)\n",
    "            return node.dist[key][index]\n",
    "    raise Exception('Unknown args: ' + str(args))\n",
    "\n",
    "def get_marginal_dist(args):\n",
    "    argument_ranges = []\n",
    "    for node in nodes:\n",
    "        if node.name in args:\n",
    "            argument_ranges.append([args[node.name]])\n",
    "        else:\n",
    "            argument_ranges.append(node.states)\n",
    "    total_prob = 0.0\n",
    "    for values in product(*argument_ranges):\n",
    "        total_product = 1.0\n",
    "        for index in range(len(nodes)):\n",
    "            value = values[index]\n",
    "            element = get_dist_element(nodes[index], value, values)\n",
    "            total_product *= element\n",
    "        total_prob += total_product\n",
    "    return total_prob"
   ]
  },
  {
   "cell_type": "code",
   "execution_count": 21,
   "metadata": {},
   "outputs": [
    {
     "name": "stdout",
     "output_type": "stream",
     "text": [
      "{'Pollution': 'low', 'Smoker': 'False', 'Cancer': 'False'}\n",
      "0.62937\n"
     ]
    }
   ],
   "source": [
    "# Pollution=low,Smoker=False,Cancer=False,Xray=positive,Dyspnoea=False\n",
    "parser = Parser('data/cancer.bif')\n",
    "nodes = parser.parse_file()\n",
    "\n",
    "\n",
    "\n",
    "line = input()\n",
    "parts = line.strip().split(',')\n",
    "args = {}\n",
    "for part in parts:\n",
    "    if len(part) == 0:\n",
    "        continue\n",
    "    pp = part.strip().split('=')\n",
    "    args[pp[0]] = pp[1]\n",
    "print(args)\n",
    "print(get_marginal_dist(args))"
   ]
  },
  {
   "cell_type": "code",
   "execution_count": 19,
   "metadata": {},
   "outputs": [
    {
     "data": {
      "text/plain": [
       "<parser.Parser at 0x7f87503749b0>"
      ]
     },
     "execution_count": 19,
     "metadata": {},
     "output_type": "execute_result"
    }
   ],
   "source": [
    "parser"
   ]
  },
  {
   "cell_type": "code",
   "execution_count": 20,
   "metadata": {},
   "outputs": [
    {
     "name": "stdout",
     "output_type": "stream",
     "text": [
      "Pollution\n",
      "Parents: \n",
      "CPD: \n",
      "{('low', 'high'): (0.9, 0.1)}\n",
      "Children: \n"
     ]
    },
    {
     "ename": "NameError",
     "evalue": "name 'a' is not defined",
     "output_type": "error",
     "traceback": [
      "\u001b[0;31m---------------------------------------------------------------------------\u001b[0m",
      "\u001b[0;31mNameError\u001b[0m                                 Traceback (most recent call last)",
      "\u001b[0;32m<ipython-input-20-0d49ceaa352d>\u001b[0m in \u001b[0;36m<module>\u001b[0;34m()\u001b[0m\n\u001b[1;32m      1\u001b[0m \u001b[0;32mfor\u001b[0m \u001b[0mnode\u001b[0m \u001b[0;32min\u001b[0m \u001b[0mnodes\u001b[0m\u001b[0;34m:\u001b[0m\u001b[0;34m\u001b[0m\u001b[0m\n\u001b[0;32m----> 2\u001b[0;31m     \u001b[0mnode\u001b[0m\u001b[0;34m.\u001b[0m\u001b[0mprintNode\u001b[0m\u001b[0;34m(\u001b[0m\u001b[0;34m)\u001b[0m\u001b[0;34m\u001b[0m\u001b[0m\n\u001b[0m",
      "\u001b[0;32m~/Desktop/itmo/MachineLearning/HW4/node.py\u001b[0m in \u001b[0;36mprintNode\u001b[0;34m(self)\u001b[0m\n\u001b[1;32m    143\u001b[0m         \u001b[0mprint\u001b[0m\u001b[0;34m(\u001b[0m\u001b[0mself\u001b[0m\u001b[0;34m.\u001b[0m\u001b[0mget_dist\u001b[0m\u001b[0;34m(\u001b[0m\u001b[0;34m)\u001b[0m\u001b[0;34m)\u001b[0m\u001b[0;34m\u001b[0m\u001b[0m\n\u001b[1;32m    144\u001b[0m         \u001b[0mprint\u001b[0m\u001b[0;34m(\u001b[0m\u001b[0;34m\"Children: \"\u001b[0m\u001b[0;34m)\u001b[0m\u001b[0;34m\u001b[0m\u001b[0m\n\u001b[0;32m--> 145\u001b[0;31m         \u001b[0;32mfor\u001b[0m \u001b[0mc\u001b[0m \u001b[0;32min\u001b[0m \u001b[0mself\u001b[0m\u001b[0;34m.\u001b[0m\u001b[0mchildren\u001b[0m\u001b[0;34m:\u001b[0m\u001b[0;34m\u001b[0m\u001b[0m\n\u001b[0m\u001b[1;32m    146\u001b[0m             \u001b[0mprint\u001b[0m\u001b[0;34m(\u001b[0m\u001b[0mc\u001b[0m\u001b[0;34m.\u001b[0m\u001b[0mget_name\u001b[0m\u001b[0;34m(\u001b[0m\u001b[0;34m)\u001b[0m\u001b[0;34m)\u001b[0m\u001b[0;34m\u001b[0m\u001b[0m\n\u001b[1;32m    147\u001b[0m         \u001b[0mprint\u001b[0m\u001b[0;34m(\u001b[0m\u001b[0;34m\"\"\u001b[0m\u001b[0;34m)\u001b[0m\u001b[0;34m\u001b[0m\u001b[0m\n",
      "\u001b[0;31mNameError\u001b[0m: name 'a' is not defined"
     ]
    }
   ],
   "source": [
    "for node in nodes:\n",
    "    node.printNode()"
   ]
  },
  {
   "cell_type": "code",
   "execution_count": null,
   "metadata": {},
   "outputs": [],
   "source": []
  }
 ],
 "metadata": {
  "kernelspec": {
   "display_name": "mainpy",
   "language": "python",
   "name": "mainpy"
  },
  "language_info": {
   "codemirror_mode": {
    "name": "ipython",
    "version": 3
   },
   "file_extension": ".py",
   "mimetype": "text/x-python",
   "name": "python",
   "nbconvert_exporter": "python",
   "pygments_lexer": "ipython3",
   "version": "3.6.5"
  }
 },
 "nbformat": 4,
 "nbformat_minor": 2
}
