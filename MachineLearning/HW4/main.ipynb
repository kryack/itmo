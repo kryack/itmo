{
 "cells": [
  {
   "cell_type": "code",
   "execution_count": 1,
   "metadata": {},
   "outputs": [],
   "source": [
    "from parser import Parser\n",
    "from itertools import product"
   ]
  },
  {
   "cell_type": "code",
   "execution_count": 5,
   "metadata": {},
   "outputs": [],
   "source": [
    "def element_wise_equal(a, b):\n",
    "    for i in range(0, len(a)):\n",
    "        if a[i] != b[i]:\n",
    "            return False\n",
    "    return True\n",
    "\n",
    "def get_dist_element(node, value, args_list):\n",
    "    args = []\n",
    "    for parent in node.parents:\n",
    "        args.append(args_list[nodes.index(parent)])\n",
    "    for key in node.dist:\n",
    "        if type(key[0]) == tuple:\n",
    "            conditions = key[1]\n",
    "            values = key[0]\n",
    "        else:\n",
    "            conditions = []\n",
    "            values = key\n",
    "        if element_wise_equal(conditions, args):\n",
    "            index = values.index(value)\n",
    "            return node.dist[key][index]\n",
    "    raise Exception('Unknown args: ' + str(args))\n",
    "\n",
    "def get_marginal_dist(args):\n",
    "    argument_ranges = []\n",
    "    for node in nodes:\n",
    "        if node.name in args:\n",
    "            argument_ranges.append([args[node.name]])\n",
    "        else:\n",
    "            argument_ranges.append(node.states)\n",
    "    total_prob = 0.0\n",
    "    for values in product(*argument_ranges):\n",
    "        total_product = 1.0\n",
    "        for index in range(len(nodes)):\n",
    "            value = values[index]\n",
    "            element = get_dist_element(nodes[index], value, values)\n",
    "            total_product *= element\n",
    "        total_prob += total_product\n",
    "    \n",
    "    print(total_prob)\n",
    "    return total_prob\n",
    "\n",
    "def get_args():\n",
    "    \n",
    "    line = input()\n",
    "    parts = line.strip().split(',')\n",
    "    args = {}\n",
    "    for part in parts:\n",
    "        if len(part) == 0:\n",
    "            continue\n",
    "        pp = part.strip().split('=')\n",
    "        args[pp[0]] = pp[1]\n",
    "        \n",
    "    print(args)\n",
    "    return args"
   ]
  },
  {
   "cell_type": "code",
   "execution_count": 3,
   "metadata": {},
   "outputs": [],
   "source": [
    "parser = Parser('data/cancer.bif')\n",
    "nodes = parser.parse_file()"
   ]
  },
  {
   "cell_type": "code",
   "execution_count": 6,
   "metadata": {},
   "outputs": [
    {
     "name": "stdout",
     "output_type": "stream",
     "text": [
      "{'Pollution': 'low', 'Smoker': 'False'}\n",
      "0.6300000000000001\n"
     ]
    },
    {
     "data": {
      "text/plain": [
       "0.6300000000000001"
      ]
     },
     "execution_count": 6,
     "metadata": {},
     "output_type": "execute_result"
    }
   ],
   "source": [
    "# Pollution=low,Smoker=False,Cancer=False,Xray=positive,Dyspnoea=False\n",
    "\n",
    "get_marginal_dist(get_args())"
   ]
  },
  {
   "cell_type": "code",
   "execution_count": 8,
   "metadata": {},
   "outputs": [
    {
     "name": "stdout",
     "output_type": "stream",
     "text": [
      "{'Pollution': 'low', 'Xray': 'negative'}\n",
      "0.713889\n"
     ]
    },
    {
     "data": {
      "text/plain": [
       "0.713889"
      ]
     },
     "execution_count": 8,
     "metadata": {},
     "output_type": "execute_result"
    }
   ],
   "source": [
    "get_marginal_dist(get_args())"
   ]
  }
 ],
 "metadata": {
  "kernelspec": {
   "display_name": "mainpy",
   "language": "python",
   "name": "mainpy"
  },
  "language_info": {
   "codemirror_mode": {
    "name": "ipython",
    "version": 3
   },
   "file_extension": ".py",
   "mimetype": "text/x-python",
   "name": "python",
   "nbconvert_exporter": "python",
   "pygments_lexer": "ipython3",
   "version": "3.6.5"
  }
 },
 "nbformat": 4,
 "nbformat_minor": 2
}
