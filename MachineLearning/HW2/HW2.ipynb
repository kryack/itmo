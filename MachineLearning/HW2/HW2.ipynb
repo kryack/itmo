{
 "cells": [
  {
   "cell_type": "code",
   "execution_count": 14,
   "metadata": {},
   "outputs": [],
   "source": [
    "import numpy as np\n",
    "import pandas as pd\n",
    "import matplotlib.pyplot as plt\n",
    "\n",
    "import warnings\n",
    "warnings.filterwarnings(\"ignore\")\n",
    "\n",
    "from sklearn.metrics import accuracy_score"
   ]
  },
  {
   "cell_type": "code",
   "execution_count": 2,
   "metadata": {},
   "outputs": [
    {
     "data": {
      "text/plain": [
       "(100, 10000)"
      ]
     },
     "execution_count": 2,
     "metadata": {},
     "output_type": "execute_result"
    }
   ],
   "source": [
    "train = pd.read_csv('arcene/arcene_train.data', delimiter= ' ', header= None).values[:, :10000]\n",
    "y = pd.read_csv('arcene/arcene_train.labels', header=None).values.reshape(-1, )\n",
    "\n",
    "\n",
    "train.shape"
   ]
  },
  {
   "cell_type": "code",
   "execution_count": 3,
   "metadata": {},
   "outputs": [
    {
     "data": {
      "text/plain": [
       "(100, 10000)"
      ]
     },
     "execution_count": 3,
     "metadata": {},
     "output_type": "execute_result"
    }
   ],
   "source": [
    "valid = pd.read_csv('arcene/arcene_valid.data', delimiter= ' ', header= None).values[:, :10000]\n",
    "y_valid = pd.read_csv('arcene/arcene_valid.labels', header= None).values.reshape(-1, )\n",
    "\n",
    "valid.shape"
   ]
  },
  {
   "cell_type": "code",
   "execution_count": 4,
   "metadata": {},
   "outputs": [],
   "source": [
    "def selekt(inp, lst):\n",
    "    \n",
    "    #outp = pd.DataFrame(inp, columns=lst)\n",
    "    return inp[:, lst]"
   ]
  },
  {
   "cell_type": "code",
   "execution_count": 6,
   "metadata": {},
   "outputs": [],
   "source": [
    "from sklearn.neighbors import KNeighborsClassifier\n",
    "from sklearn.svm import SVC\n",
    "from sklearn.tree import DecisionTreeClassifier\n",
    "import xgboost\n",
    "\n",
    "def test(train, valid):\n",
    "    knn_model = KNeighborsClassifier(n_neighbors=1)\n",
    "    svm_model = SVC(random_state=42)\n",
    "    dt_model = DecisionTreeClassifier(random_state=42)\n",
    "    xgb_model = xgboost.XGBClassifier()\n",
    "\n",
    "    knn_model.fit(train, y)\n",
    "    svm_model.fit(train, y)\n",
    "    dt_model.fit(train, y)\n",
    "    xgb_model.fit(train, y)\n",
    "\n",
    "    knn_labels = knn_model.predict(valid)\n",
    "    svm_labels = svm_model.predict(valid)\n",
    "    dt_labels = dt_model.predict(valid)\n",
    "    xgb_labels = xgb_model.predict(valid)\n",
    "\n",
    "\n",
    "    print(\"Accuracy on the knn: {}\\non the svm: {}\\non the dt: {}\\nxgb: {}\".format\n",
    "          (accuracy_score(y_valid, knn_labels),\n",
    "          accuracy_score(y_valid, svm_labels),\n",
    "          accuracy_score(y_valid, dt_labels),\n",
    "          accuracy_score(y_valid, xgb_labels)))"
   ]
  },
  {
   "cell_type": "markdown",
   "metadata": {},
   "source": [
    "## Filters"
   ]
  },
  {
   "cell_type": "code",
   "execution_count": 22,
   "metadata": {},
   "outputs": [],
   "source": [
    "from sklearn.ensemble import ExtraTreesClassifier\n",
    "\n",
    "def etree(train, k = 10):\n",
    "    \n",
    "    et_model = ExtraTreesClassifier(n_estimators = 10, max_depth=5, random_state=42)\n",
    "    et_model.fit(train, y)\n",
    "    imp = et_model.feature_importances_\n",
    "\n",
    "    ar = {i : imp[i] for i in range(imp.size) if imp[i] != 0}\n",
    "    sortdict = sorted(ar.items(), key=lambda item: abs(item[1]), reverse=True)\n",
    "    \n",
    "    if len(ar) < k:\n",
    "        k = len(ar)        \n",
    "    sortlist = [sortdict[i][0] for i in range(k)]\n",
    "    \n",
    "    return sortlist"
   ]
  },
  {
   "cell_type": "code",
   "execution_count": 23,
   "metadata": {},
   "outputs": [],
   "source": [
    "from sklearn.linear_model import Lasso\n",
    "\n",
    "def lassofilter(train, k = 10):\n",
    "    clf = Lasso(alpha=0.001)\n",
    "    clf.fit(train, y)\n",
    "    imp = clf.coef_\n",
    "\n",
    "    ar = {i : imp[i] for i in range(imp.size) if imp[i] != 0}\n",
    "    sortdict = sorted(ar.items(), key=lambda item: abs(item[1]), reverse=True)\n",
    "    if len(ar) < k:\n",
    "        k = len(ar)\n",
    "    sortlist = [sortdict[i][0] for i in range(k)]\n",
    "    \n",
    "    return sortlist"
   ]
  },
  {
   "cell_type": "code",
   "execution_count": 18,
   "metadata": {
    "scrolled": true
   },
   "outputs": [],
   "source": [
    "def corrfilter(train, k = 10):\n",
    "\n",
    "    corrlist = {}\n",
    "    for i in range(10000):\n",
    "        a = np.corrcoef(train[:, i], y)[0][1]\n",
    "        if abs(a) > 0.40:\n",
    "            corrlist[i] = abs(a)\n",
    "            \n",
    "    sortdict = sorted(corrlist.items(), key=lambda item: abs(item[1]), reverse=True)\n",
    "    if len(sortdict) < k:\n",
    "        k = len(sortdict)\n",
    "        \n",
    "    sortlist = [sortdict[i][0] for i in range(k)]\n",
    "    return sortlist"
   ]
  },
  {
   "cell_type": "code",
   "execution_count": null,
   "metadata": {},
   "outputs": [],
   "source": []
  },
  {
   "cell_type": "code",
   "execution_count": null,
   "metadata": {},
   "outputs": [],
   "source": []
  },
  {
   "cell_type": "code",
   "execution_count": 24,
   "metadata": {},
   "outputs": [
    {
     "name": "stdout",
     "output_type": "stream",
     "text": [
      "Accuracy on the knn: 0.8\n",
      "on the svm: 0.72\n",
      "on the dt: 0.57\n",
      "xgb: 0.72\n"
     ]
    }
   ],
   "source": [
    "tr = train_std\n",
    "te = valid_std\n",
    "test(tr, te)"
   ]
  },
  {
   "cell_type": "code",
   "execution_count": 25,
   "metadata": {},
   "outputs": [
    {
     "name": "stdout",
     "output_type": "stream",
     "text": [
      "Accuracy on the knn: 0.83\n",
      "on the svm: 0.82\n",
      "on the dt: 0.7\n",
      "xgb: 0.71\n",
      "Accuracy on the knn: 0.63\n",
      "on the svm: 0.68\n",
      "on the dt: 0.59\n",
      "xgb: 0.64\n",
      "Accuracy on the knn: 0.59\n",
      "on the svm: 0.71\n",
      "on the dt: 0.62\n",
      "xgb: 0.66\n"
     ]
    }
   ],
   "source": [
    "K = 12\n",
    "\n",
    "sortlist = etree(tr, k = K)\n",
    "et_train = selekt(tr, sortlist)\n",
    "et_test = selekt(te, sortlist)\n",
    "test(et_train, et_test)\n",
    "\n",
    "sortlist = lassofilter(tr, k = K)\n",
    "lasso_train = selekt(tr, sortlist)\n",
    "lasso_test = selekt(te, sortlist)\n",
    "test(lasso_train, lasso_test)\n",
    "\n",
    "corr_lst = corrfilter(tr, k = K)\n",
    "corr_train = selekt(tr, corr_lst)\n",
    "corr_test = selekt(te, corr_lst)\n",
    "test(corr_train, corr_test)"
   ]
  },
  {
   "cell_type": "markdown",
   "metadata": {},
   "source": [
    "##  Тщкьфдшяу"
   ]
  },
  {
   "cell_type": "code",
   "execution_count": 11,
   "metadata": {},
   "outputs": [],
   "source": [
    "from sklearn import preprocessing\n",
    "\n",
    "\n",
    "min_max_scaler = preprocessing.MinMaxScaler().fit(train)\n",
    "std_scaler = preprocessing.StandardScaler().fit(train)\n",
    "normalizer = preprocessing.Normalizer().fit(train)\n",
    "\n",
    "\n",
    "\n",
    "train_minmax = min_max_scaler.transform(train)\n",
    "valid_minmax = min_max_scaler.transform(valid)\n",
    "\n",
    "train_std = std_scaler.transform(train)\n",
    "valid_std = std_scaler.transform(valid)\n",
    "\n",
    "train_norm = normalizer.transform(train)\n",
    "valid_norm = normalizer.transform(valid)"
   ]
  },
  {
   "cell_type": "code",
   "execution_count": 127,
   "metadata": {},
   "outputs": [
    {
     "name": "stdout",
     "output_type": "stream",
     "text": [
      "Accuracy on the knn: 0.84\n",
      "on the svm: 0.84\n",
      "on the dt: 0.57\n",
      "xgb: 0.71\n",
      "Accuracy on the knn: 0.8\n",
      "on the svm: 0.83\n",
      "on the dt: 0.57\n",
      "xgb: 0.72\n",
      "Accuracy on the knn: 0.88\n",
      "on the svm: 0.72\n",
      "on the dt: 0.73\n",
      "xgb: 0.7\n"
     ]
    }
   ],
   "source": [
    "test(train_minmax, valid_minmax)\n",
    "test(train_std, valid_std)\n",
    "test(train_norm, valid_norm)"
   ]
  },
  {
   "cell_type": "code",
   "execution_count": null,
   "metadata": {},
   "outputs": [],
   "source": []
  },
  {
   "cell_type": "markdown",
   "metadata": {},
   "source": [
    "## Baseline"
   ]
  },
  {
   "cell_type": "code",
   "execution_count": 26,
   "metadata": {},
   "outputs": [
    {
     "name": "stdout",
     "output_type": "stream",
     "text": [
      "Accuracy on the knn: 0.88\n",
      "on the svm: 0.56\n",
      "on the dt: 0.57\n",
      "xgb: 0.72\n"
     ]
    }
   ],
   "source": [
    "test(train, valid)"
   ]
  },
  {
   "cell_type": "code",
   "execution_count": 30,
   "metadata": {},
   "outputs": [
    {
     "name": "stdout",
     "output_type": "stream",
     "text": [
      "Accuracy on the knn: 0.78\n",
      "on the svm: 0.56\n",
      "on the dt: 0.69\n",
      "xgb: 0.72\n",
      "Accuracy on the knn: 0.65\n",
      "on the svm: 0.56\n",
      "on the dt: 0.62\n",
      "xgb: 0.76\n",
      "Accuracy on the knn: 0.55\n",
      "on the svm: 0.6\n",
      "on the dt: 0.64\n",
      "xgb: 0.64\n"
     ]
    }
   ],
   "source": [
    "K = 14\n",
    "\n",
    "sortlist = etree(train, k = K)\n",
    "et_train = selekt(train, sortlist)\n",
    "et_test = selekt(valid, sortlist)\n",
    "test(et_train, et_test)\n",
    "\n",
    "sortlist = lassofilter(train, k = K)\n",
    "lasso_train = selekt(train, sortlist)\n",
    "lasso_test = selekt(valid, sortlist)\n",
    "test(lasso_train, lasso_test)\n",
    "\n",
    "corr_lst = corrfilter(train, k = K)\n",
    "corr_train = selekt(train, corr_lst)\n",
    "corr_test = selekt(valid, corr_lst)\n",
    "test(corr_train, corr_test)"
   ]
  },
  {
   "cell_type": "markdown",
   "metadata": {},
   "source": [
    "### TESTS"
   ]
  },
  {
   "cell_type": "code",
   "execution_count": 31,
   "metadata": {},
   "outputs": [
    {
     "name": "stdout",
     "output_type": "stream",
     "text": [
      "Accuracy on the knn: 0.84\n",
      "on the svm: 0.56\n",
      "on the dt: 0.57\n",
      "xgb: 0.71\n"
     ]
    }
   ],
   "source": [
    "tr = train_minmax\n",
    "te = valid_minmax\n",
    "test(tr, te)"
   ]
  },
  {
   "cell_type": "code",
   "execution_count": 34,
   "metadata": {},
   "outputs": [
    {
     "name": "stdout",
     "output_type": "stream",
     "text": [
      "Accuracy on the knn: 0.83\n",
      "on the svm: 0.74\n",
      "on the dt: 0.7\n",
      "xgb: 0.71\n",
      "Accuracy on the knn: 0.59\n",
      "on the svm: 0.63\n",
      "on the dt: 0.59\n",
      "xgb: 0.54\n",
      "Accuracy on the knn: 0.6\n",
      "on the svm: 0.67\n",
      "on the dt: 0.62\n",
      "xgb: 0.66\n"
     ]
    }
   ],
   "source": [
    "K = 12\n",
    "\n",
    "sortlist = etree(tr, k = K)\n",
    "et_train = selekt(tr, sortlist)\n",
    "et_test = selekt(te, sortlist)\n",
    "test(et_train, et_test)\n",
    "\n",
    "sortlist = lassofilter(tr, k = K)\n",
    "lasso_train = selekt(tr, sortlist)\n",
    "lasso_test = selekt(te, sortlist)\n",
    "test(lasso_train, lasso_test)\n",
    "\n",
    "corr_lst = corrfilter(tr, k = K)\n",
    "corr_train = selekt(tr, corr_lst)\n",
    "corr_test = selekt(te, corr_lst)\n",
    "test(corr_train, corr_test)"
   ]
  },
  {
   "cell_type": "code",
   "execution_count": 35,
   "metadata": {},
   "outputs": [
    {
     "name": "stdout",
     "output_type": "stream",
     "text": [
      "Accuracy on the knn: 0.8\n",
      "on the svm: 0.72\n",
      "on the dt: 0.57\n",
      "xgb: 0.72\n"
     ]
    }
   ],
   "source": [
    "tr = train_std\n",
    "te = valid_std\n",
    "test(tr, te)"
   ]
  },
  {
   "cell_type": "code",
   "execution_count": 36,
   "metadata": {},
   "outputs": [
    {
     "name": "stdout",
     "output_type": "stream",
     "text": [
      "Accuracy on the knn: 0.83\n",
      "on the svm: 0.82\n",
      "on the dt: 0.7\n",
      "xgb: 0.71\n",
      "Accuracy on the knn: 0.63\n",
      "on the svm: 0.68\n",
      "on the dt: 0.59\n",
      "xgb: 0.64\n",
      "Accuracy on the knn: 0.59\n",
      "on the svm: 0.71\n",
      "on the dt: 0.62\n",
      "xgb: 0.66\n"
     ]
    }
   ],
   "source": [
    "K = 12\n",
    "\n",
    "sortlist = etree(tr, k = K)\n",
    "et_train = selekt(tr, sortlist)\n",
    "et_test = selekt(te, sortlist)\n",
    "test(et_train, et_test)\n",
    "\n",
    "sortlist = lassofilter(tr, k = K)\n",
    "lasso_train = selekt(tr, sortlist)\n",
    "lasso_test = selekt(te, sortlist)\n",
    "test(lasso_train, lasso_test)\n",
    "\n",
    "corr_lst = corrfilter(tr, k = K)\n",
    "corr_train = selekt(tr, corr_lst)\n",
    "corr_test = selekt(te, corr_lst)\n",
    "test(corr_train, corr_test)"
   ]
  },
  {
   "cell_type": "code",
   "execution_count": null,
   "metadata": {},
   "outputs": [],
   "source": []
  },
  {
   "cell_type": "code",
   "execution_count": null,
   "metadata": {},
   "outputs": [],
   "source": []
  },
  {
   "cell_type": "code",
   "execution_count": null,
   "metadata": {},
   "outputs": [],
   "source": []
  },
  {
   "cell_type": "code",
   "execution_count": null,
   "metadata": {},
   "outputs": [],
   "source": []
  },
  {
   "cell_type": "code",
   "execution_count": null,
   "metadata": {},
   "outputs": [],
   "source": []
  },
  {
   "cell_type": "code",
   "execution_count": null,
   "metadata": {},
   "outputs": [],
   "source": []
  },
  {
   "cell_type": "code",
   "execution_count": 24,
   "metadata": {},
   "outputs": [
    {
     "name": "stdout",
     "output_type": "stream",
     "text": [
      "Accuracy on the test set is: 0.69\n"
     ]
    }
   ],
   "source": [
    "from sklearn.ensemble import RandomForestClassifier\n",
    "\n",
    "rf_model = RandomForestClassifier(n_estimators = 3, max_depth=5, random_state=42)\n",
    "\n",
    "rf_model.fit(train, y)\n",
    "\n",
    "predicted_labels = rf_model.predict(valid)\n",
    "\n",
    "print(\"Accuracy on the test set is: {}\".format(\n",
    "    round(accuracy_score(y_valid, predicted_labels), 5)))"
   ]
  },
  {
   "cell_type": "code",
   "execution_count": 25,
   "metadata": {
    "scrolled": false
   },
   "outputs": [
    {
     "name": "stdout",
     "output_type": "stream",
     "text": [
      "22\n"
     ]
    },
    {
     "data": {
      "text/plain": [
       "[(456, 0.1183067296957202),\n",
       " (4112, 0.11256248061568201),\n",
       " (1660, 0.06455915699613182),\n",
       " (6500, 0.06384320109810306),\n",
       " (2355, 0.06300138840429964),\n",
       " (5480, 0.060541878049175046),\n",
       " (2743, 0.05928297244823855),\n",
       " (6057, 0.056755302853742196),\n",
       " (8000, 0.04620620346261021),\n",
       " (7113, 0.04446222933617891),\n",
       " (28, 0.039298158472094565),\n",
       " (2100, 0.03873933958649659),\n",
       " (4413, 0.036291376059507635),\n",
       " (8122, 0.03366653534669369),\n",
       " (2439, 0.03175873524012779),\n",
       " (6264, 0.029441898085737397),\n",
       " (9999, 0.025321838551359378),\n",
       " (7308, 0.02242515604171079),\n",
       " (3926, 0.0171760084052807),\n",
       " (9537, 0.012671735360810987),\n",
       " (4933, 0.012267457535723917),\n",
       " (2637, 0.01142021835457494)]"
      ]
     },
     "execution_count": 25,
     "metadata": {},
     "output_type": "execute_result"
    }
   ],
   "source": [
    "imp = rf_model.feature_importances_\n",
    "\n",
    "ar = {i : imp[i] for i in range(imp.size) if imp[i] != 0}\n",
    "sortdict = sorted(ar.items(), key=lambda item: abs(item[1]), reverse=True)\n",
    "print(len(ar))\n",
    "\n",
    "sortdict"
   ]
  },
  {
   "cell_type": "code",
   "execution_count": 36,
   "metadata": {},
   "outputs": [],
   "source": [
    "lst = [8852, 7896, 361, 792, 2378, 174, 2182, 4296]\n",
    "\n",
    "lst1 = [ls + 1 for ls in lst]"
   ]
  },
  {
   "cell_type": "code",
   "execution_count": 37,
   "metadata": {},
   "outputs": [],
   "source": [
    "lasso_train = selekt(train, lst)\n",
    "lasso_test = selekt(valid, lst)"
   ]
  },
  {
   "cell_type": "code",
   "execution_count": 38,
   "metadata": {},
   "outputs": [
    {
     "name": "stdout",
     "output_type": "stream",
     "text": [
      "Accuracy on the knn: 0.47\n",
      "on the svm: 0.52\n",
      "on the dt: 0.43\n",
      "xgb: 0.49\n"
     ]
    }
   ],
   "source": [
    "test(lasso_train, lasso_test)"
   ]
  },
  {
   "cell_type": "code",
   "execution_count": null,
   "metadata": {},
   "outputs": [],
   "source": []
  },
  {
   "cell_type": "code",
   "execution_count": null,
   "metadata": {},
   "outputs": [],
   "source": []
  }
 ],
 "metadata": {
  "kernelspec": {
   "display_name": "mainpy",
   "language": "python",
   "name": "mainpy"
  },
  "language_info": {
   "codemirror_mode": {
    "name": "ipython",
    "version": 3
   },
   "file_extension": ".py",
   "mimetype": "text/x-python",
   "name": "python",
   "nbconvert_exporter": "python",
   "pygments_lexer": "ipython3",
   "version": "3.6.6"
  }
 },
 "nbformat": 4,
 "nbformat_minor": 2
}
