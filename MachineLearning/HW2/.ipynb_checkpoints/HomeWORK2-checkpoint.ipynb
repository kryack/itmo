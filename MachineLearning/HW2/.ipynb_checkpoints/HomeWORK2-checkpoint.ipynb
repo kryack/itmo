{
 "cells": [
  {
   "cell_type": "code",
   "execution_count": 3,
   "metadata": {},
   "outputs": [],
   "source": [
    "import numpy as np\n",
    "import pandas as pd\n",
    "import matplotlib.pyplot as plt\n",
    "\n",
    "import warnings\n",
    "warnings.filterwarnings(\"ignore\")\n",
    "\n",
    "from sklearn.metrics import accuracy_score"
   ]
  },
  {
   "cell_type": "code",
   "execution_count": 4,
   "metadata": {},
   "outputs": [
    {
     "data": {
      "text/plain": [
       "(100, 10000)"
      ]
     },
     "execution_count": 4,
     "metadata": {},
     "output_type": "execute_result"
    }
   ],
   "source": [
    "train = pd.read_csv('arcene/arcene_train.data', delimiter= ' ', header= None).values[:, :10000]\n",
    "y = pd.read_csv('arcene/arcene_train.labels', header=None).values.reshape(-1, )\n",
    "\n",
    "train.shape"
   ]
  },
  {
   "cell_type": "code",
   "execution_count": 5,
   "metadata": {},
   "outputs": [
    {
     "data": {
      "text/plain": [
       "(100, 10000)"
      ]
     },
     "execution_count": 5,
     "metadata": {},
     "output_type": "execute_result"
    }
   ],
   "source": [
    "valid = pd.read_csv('arcene/arcene_valid.data', delimiter= ' ', header= None).values[:, :10000]\n",
    "y_valid = pd.read_csv('arcene/arcene_valid.labels', header= None).values.reshape(-1, )\n",
    "\n",
    "valid.shape"
   ]
  },
  {
   "cell_type": "code",
   "execution_count": 6,
   "metadata": {},
   "outputs": [],
   "source": [
    "from sklearn.neighbors import KNeighborsClassifier\n",
    "from sklearn.svm import SVC\n",
    "from sklearn.tree import DecisionTreeClassifier\n",
    "import xgboost\n",
    "\n",
    "def test(train, valid):\n",
    "    knn_model = KNeighborsClassifier(n_neighbors=1)\n",
    "    svm_model = SVC(random_state=42)\n",
    "    dt_model = DecisionTreeClassifier(random_state=42)\n",
    "    xgb_model = xgboost.XGBClassifier()\n",
    "\n",
    "    knn_model.fit(train, y)\n",
    "    svm_model.fit(train, y)\n",
    "    dt_model.fit(train, y)\n",
    "    xgb_model.fit(train, y)\n",
    "\n",
    "    knn_labels = knn_model.predict(valid)\n",
    "    svm_labels = svm_model.predict(valid)\n",
    "    dt_labels = dt_model.predict(valid)\n",
    "    xgb_labels = xgb_model.predict(valid)\n",
    "\n",
    "\n",
    "    print(\"Accuracy on the knn: {}\\non the svm: {}\\non the dt: {}\\nxgb: {}\".format\n",
    "          (accuracy_score(y_valid, knn_labels),\n",
    "          accuracy_score(y_valid, svm_labels),\n",
    "          accuracy_score(y_valid, dt_labels),\n",
    "          accuracy_score(y_valid, xgb_labels)))"
   ]
  },
  {
   "cell_type": "markdown",
   "metadata": {},
   "source": [
    "## Filters"
   ]
  },
  {
   "cell_type": "code",
   "execution_count": 7,
   "metadata": {},
   "outputs": [],
   "source": [
    "from sklearn.ensemble import ExtraTreesClassifier\n",
    "\n",
    "def etree(train, k = 10):\n",
    "    \n",
    "    et_model = ExtraTreesClassifier(n_estimators = 10, max_depth=5, random_state=42)\n",
    "    et_model.fit(train, y)\n",
    "    imp = et_model.feature_importances_\n",
    "\n",
    "    ar = {i : imp[i] for i in range(imp.size) if imp[i] != 0}\n",
    "    sortdict = sorted(ar.items(), key=lambda item: abs(item[1]), reverse=True)\n",
    "    \n",
    "    if len(ar) < k:\n",
    "        k = len(ar)        \n",
    "    sortlist = [sortdict[i][0] for i in range(k)]\n",
    "    \n",
    "    return sortlist"
   ]
  },
  {
   "cell_type": "code",
   "execution_count": 8,
   "metadata": {},
   "outputs": [],
   "source": [
    "from sklearn.linear_model import Lasso\n",
    "\n",
    "def lassofilter(train, k = 10):\n",
    "    clf = Lasso(alpha=0.001)\n",
    "    clf.fit(train, y)\n",
    "    imp = clf.coef_\n",
    "\n",
    "    ar = {i : imp[i] for i in range(imp.size) if imp[i] != 0}\n",
    "    sortdict = sorted(ar.items(), key=lambda item: abs(item[1]), reverse=True)\n",
    "    if len(ar) < k:\n",
    "        k = len(ar)\n",
    "    sortlist = [sortdict[i][0] for i in range(k)]\n",
    "    \n",
    "    return sortlist"
   ]
  },
  {
   "cell_type": "code",
   "execution_count": 9,
   "metadata": {
    "scrolled": true
   },
   "outputs": [],
   "source": [
    "def corrfilter(train, k = 10):\n",
    "        \n",
    "    corrdict = {i: abs(np.corrcoef(train[:, i], y)[0][1]) for i in range(train.shape[1]) \\\n",
    "                if abs(np.corrcoef(train[:, i], y)[0][1]) > 0.40} \n",
    "\n",
    "    sortdict = sorted(corrdict.items(), key=lambda item: item[1], reverse=True)\n",
    "    if len(sortdict) < k:\n",
    "        k = len(sortdict)\n",
    "        \n",
    "    sortlist = [sortdict[i][0] for i in range(k)]\n",
    "    return sortlist"
   ]
  },
  {
   "cell_type": "markdown",
   "metadata": {},
   "source": [
    "##  Normalize"
   ]
  },
  {
   "cell_type": "code",
   "execution_count": 10,
   "metadata": {},
   "outputs": [],
   "source": [
    "from sklearn import preprocessing\n",
    "\n",
    "std_scaler = preprocessing.StandardScaler().fit(train)\n",
    "\n",
    "train_std = std_scaler.transform(train)\n",
    "valid_std = std_scaler.transform(valid)"
   ]
  },
  {
   "cell_type": "markdown",
   "metadata": {},
   "source": [
    "### TESTS"
   ]
  },
  {
   "cell_type": "code",
   "execution_count": 11,
   "metadata": {},
   "outputs": [
    {
     "name": "stdout",
     "output_type": "stream",
     "text": [
      "Accuracy on the knn: 0.8\n",
      "on the svm: 0.72\n",
      "on the dt: 0.57\n",
      "xgb: 0.72\n"
     ]
    }
   ],
   "source": [
    "tr = train_std\n",
    "te = valid_std\n",
    "test(tr, te)"
   ]
  },
  {
   "cell_type": "code",
   "execution_count": 12,
   "metadata": {},
   "outputs": [
    {
     "name": "stdout",
     "output_type": "stream",
     "text": [
      "Accuracy on the knn: 0.83\n",
      "on the svm: 0.82\n",
      "on the dt: 0.7\n",
      "xgb: 0.71\n",
      "Accuracy on the knn: 0.63\n",
      "on the svm: 0.68\n",
      "on the dt: 0.59\n",
      "xgb: 0.64\n",
      "Accuracy on the knn: 0.59\n",
      "on the svm: 0.71\n",
      "on the dt: 0.62\n",
      "xgb: 0.66\n"
     ]
    }
   ],
   "source": [
    "K = 12\n",
    "\n",
    "sortlist = etree(tr, k = K)\n",
    "et_train = tr[:, sortlist]\n",
    "et_test = te[:, sortlist]\n",
    "test(et_train, et_test)\n",
    "\n",
    "sortlist = lassofilter(tr, k = K)\n",
    "lasso_train = tr[:, sortlist]\n",
    "lasso_test = te[:, sortlist]\n",
    "test(lasso_train, lasso_test)\n",
    "\n",
    "corr_lst = corrfilter(tr, k = K)\n",
    "corr_train = tr[:, corr_lst]\n",
    "corr_test = te[:, corr_lst]\n",
    "test(corr_train, corr_test)"
   ]
  },
  {
   "cell_type": "code",
   "execution_count": null,
   "metadata": {},
   "outputs": [],
   "source": []
  },
  {
   "cell_type": "markdown",
   "metadata": {},
   "source": [
    "## Wrapper"
   ]
  },
  {
   "cell_type": "code",
   "execution_count": 13,
   "metadata": {},
   "outputs": [],
   "source": [
    "from sklearn.ensemble import RandomForestClassifier\n",
    "import time\n",
    "import math\n",
    "\n",
    "def timeSince(since):\n",
    "    now = time.time()\n",
    "    s = now - since\n",
    "    m = math.floor(s / 60)\n",
    "    s -= m * 60\n",
    "    return '%dm %ds' % (m, s)"
   ]
  },
  {
   "cell_type": "code",
   "execution_count": 14,
   "metadata": {},
   "outputs": [
    {
     "name": "stdout",
     "output_type": "stream",
     "text": [
      "iter: 0, time: 2m 0s, topaccuracy: 0.77, features: [3340]\n",
      "iter: 1, time: 4m 1s, topaccuracy: 0.82, features: [3340, 4519]\n",
      "iter: 2, time: 6m 2s, topaccuracy: 0.85, features: [3340, 4519, 4287]\n",
      "iter: 3, time: 8m 5s, topaccuracy: 0.88, features: [3340, 4519, 4287, 7579]\n",
      "iter: 4, time: 10m 7s, topaccuracy: 0.86, features: [3340, 4519, 4287, 7579, 546]\n",
      "iter: 5, time: 12m 13s, topaccuracy: 0.86, features: [3340, 4519, 4287, 7579, 546, 519]\n",
      "iter: 6, time: 14m 17s, topaccuracy: 0.87, features: [3340, 4519, 4287, 7579, 546, 519, 1484]\n",
      "iter: 7, time: 16m 20s, topaccuracy: 0.89, features: [3340, 4519, 4287, 7579, 546, 519, 1484, 4748]\n",
      "iter: 8, time: 18m 23s, topaccuracy: 0.87, features: [3340, 4519, 4287, 7579, 546, 519, 1484, 4748, 521]\n",
      "iter: 9, time: 20m 26s, topaccuracy: 0.87, features: [3340, 4519, 4287, 7579, 546, 519, 1484, 4748, 521, 212]\n",
      "iter: 10, time: 22m 29s, topaccuracy: 0.89, features: [3340, 4519, 4287, 7579, 546, 519, 1484, 4748, 521, 212, 1070]\n",
      "iter: 11, time: 24m 32s, topaccuracy: 0.89, features: [3340, 4519, 4287, 7579, 546, 519, 1484, 4748, 521, 212, 1070, 842]\n",
      "iter: 12, time: 26m 34s, topaccuracy: 0.87, features: [3340, 4519, 4287, 7579, 546, 519, 1484, 4748, 521, 212, 1070, 842, 477]\n",
      "iter: 13, time: 28m 37s, topaccuracy: 0.88, features: [3340, 4519, 4287, 7579, 546, 519, 1484, 4748, 521, 212, 1070, 842, 477, 3222]\n",
      "iter: 14, time: 30m 40s, topaccuracy: 0.87, features: [3340, 4519, 4287, 7579, 546, 519, 1484, 4748, 521, 212, 1070, 842, 477, 3222, 3302]\n",
      "iter: 15, time: 32m 43s, topaccuracy: 0.84, features: [3340, 4519, 4287, 7579, 546, 519, 1484, 4748, 521, 212, 1070, 842, 477, 3222, 3302, 1607]\n",
      "iter: 16, time: 34m 47s, topaccuracy: 0.87, features: [3340, 4519, 4287, 7579, 546, 519, 1484, 4748, 521, 212, 1070, 842, 477, 3222, 3302, 1607, 1827]\n",
      "iter: 17, time: 36m 50s, topaccuracy: 0.85, features: [3340, 4519, 4287, 7579, 546, 519, 1484, 4748, 521, 212, 1070, 842, 477, 3222, 3302, 1607, 1827, 2729]\n",
      "iter: 18, time: 38m 54s, topaccuracy: 0.84, features: [3340, 4519, 4287, 7579, 546, 519, 1484, 4748, 521, 212, 1070, 842, 477, 3222, 3302, 1607, 1827, 2729, 1515]\n",
      "iter: 19, time: 40m 57s, topaccuracy: 0.87, features: [3340, 4519, 4287, 7579, 546, 519, 1484, 4748, 521, 212, 1070, 842, 477, 3222, 3302, 1607, 1827, 2729, 1515, 1971]\n"
     ]
    }
   ],
   "source": [
    "features = list(range(10000))\n",
    "good_features = []\n",
    "\n",
    "start = time.time()\n",
    "topacc = 0\n",
    "\n",
    "for i in range(20):\n",
    "    topacc = 0\n",
    "    topi = -1\n",
    "    \n",
    "    for feat in features:\n",
    "        locfeatures = good_features.copy()\n",
    "        locfeatures.append(feat)\n",
    "\n",
    "        if len(locfeatures) == 1:\n",
    "            model = RandomForestClassifier(random_state=42)\n",
    "            model.fit(train_std[:, locfeatures].reshape(-1, 1), y)\n",
    "            pred = model.predict(valid_std[:, locfeatures].reshape(-1, 1))\n",
    "        else:\n",
    "            model = RandomForestClassifier(random_state=42)\n",
    "            model.fit(train_std[:, locfeatures], y)\n",
    "            pred = model.predict(valid_std[:, locfeatures])        \n",
    "\n",
    "        accu = accuracy_score(y_valid, pred)\n",
    "        if accu > topacc:\n",
    "            topacc = accu\n",
    "            topi = feat\n",
    "    \n",
    "    #if topi == -1:\n",
    "    #    print('THE END. toplist: {}'.format(good_features))\n",
    "    #    break\n",
    "\n",
    "    good_features.append(topi)\n",
    "    ind = features.index(topi)\n",
    "    features.pop(ind)\n",
    "    print('iter: {}, time: {}, topaccuracy: {}, features: {}'\\\n",
    "          .format(i, timeSince(start), topacc, good_features))    "
   ]
  },
  {
   "cell_type": "markdown",
   "metadata": {},
   "source": [
    "### test"
   ]
  },
  {
   "cell_type": "code",
   "execution_count": 98,
   "metadata": {},
   "outputs": [
    {
     "name": "stdout",
     "output_type": "stream",
     "text": [
      "0.76\n"
     ]
    }
   ],
   "source": [
    "model = RandomForestClassifier(random_state=42)\n",
    "model.fit(train_std, y)\n",
    "pred = model.predict(valid_std)  \n",
    "print(accuracy_score(y_valid, pred))"
   ]
  },
  {
   "cell_type": "code",
   "execution_count": 99,
   "metadata": {},
   "outputs": [
    {
     "name": "stdout",
     "output_type": "stream",
     "text": [
      "0.88\n"
     ]
    }
   ],
   "source": [
    "model = RandomForestClassifier(random_state=42)\n",
    "model.fit(train_std[:, good_features], y)\n",
    "pred = model.predict(valid_std[:, good_features])  \n",
    "print(accuracy_score(y_valid, pred))"
   ]
  },
  {
   "cell_type": "code",
   "execution_count": null,
   "metadata": {},
   "outputs": [],
   "source": []
  }
 ],
 "metadata": {
  "kernelspec": {
   "display_name": "mainpy",
   "language": "python",
   "name": "mainpy"
  },
  "language_info": {
   "codemirror_mode": {
    "name": "ipython",
    "version": 3
   },
   "file_extension": ".py",
   "mimetype": "text/x-python",
   "name": "python",
   "nbconvert_exporter": "python",
   "pygments_lexer": "ipython3",
   "version": "3.6.6"
  }
 },
 "nbformat": 4,
 "nbformat_minor": 2
}
