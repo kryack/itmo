{
 "cells": [
  {
   "cell_type": "code",
   "execution_count": 1,
   "metadata": {},
   "outputs": [],
   "source": [
    "import warnings\n",
    "warnings.filterwarnings('ignore')\n",
    "\n",
    "import seaborn as sns\n",
    "\n",
    "import numpy as np\n",
    "import pandas as pd\n",
    "pd.options.display.max_rows = 999\n",
    "pd.options.display.max_columns = 999\n",
    "\n",
    "import matplotlib.pyplot as plt\n",
    "plt.rcParams['figure.figsize'] = (16, 14)\n",
    "\n",
    "import xgboost as xgb\n",
    "import sklearn\n",
    "\n",
    "from sklearn.model_selection import train_test_split, GridSearchCV\n",
    "from sklearn.preprocessing import LabelEncoder\n",
    "\n",
    "from xgboost import XGBClassifier"
   ]
  },
  {
   "cell_type": "code",
   "execution_count": 2,
   "metadata": {},
   "outputs": [
    {
     "data": {
      "text/html": [
       "<div>\n",
       "<style scoped>\n",
       "    .dataframe tbody tr th:only-of-type {\n",
       "        vertical-align: middle;\n",
       "    }\n",
       "\n",
       "    .dataframe tbody tr th {\n",
       "        vertical-align: top;\n",
       "    }\n",
       "\n",
       "    .dataframe thead th {\n",
       "        text-align: right;\n",
       "    }\n",
       "</style>\n",
       "<table border=\"1\" class=\"dataframe\">\n",
       "  <thead>\n",
       "    <tr style=\"text-align: right;\">\n",
       "      <th></th>\n",
       "      <th>f1</th>\n",
       "      <th>f2</th>\n",
       "      <th>f3</th>\n",
       "      <th>f4</th>\n",
       "      <th>f5</th>\n",
       "      <th>f6</th>\n",
       "      <th>f7</th>\n",
       "      <th>f8</th>\n",
       "      <th>f9</th>\n",
       "      <th>f10</th>\n",
       "      <th>f11</th>\n",
       "      <th>f12</th>\n",
       "      <th>f13</th>\n",
       "      <th>f14</th>\n",
       "      <th>f15</th>\n",
       "      <th>f16</th>\n",
       "      <th>f17</th>\n",
       "      <th>f18</th>\n",
       "      <th>f19</th>\n",
       "      <th>f20</th>\n",
       "      <th>f21</th>\n",
       "      <th>f22</th>\n",
       "      <th>f23</th>\n",
       "      <th>f24</th>\n",
       "      <th>f25</th>\n",
       "      <th>f26</th>\n",
       "      <th>f27</th>\n",
       "    </tr>\n",
       "  </thead>\n",
       "  <tbody>\n",
       "    <tr>\n",
       "      <th>0</th>\n",
       "      <td>21.754551</td>\n",
       "      <td>-9.061572</td>\n",
       "      <td>-6.260555</td>\n",
       "      <td>17.105104</td>\n",
       "      <td>-7.931253</td>\n",
       "      <td>18.665724</td>\n",
       "      <td>-20.574977</td>\n",
       "      <td>4.522313</td>\n",
       "      <td>-9.428453</td>\n",
       "      <td>-3.441898</td>\n",
       "      <td>0.063335</td>\n",
       "      <td>-12.128157</td>\n",
       "      <td>16.915358</td>\n",
       "      <td>-9.035745</td>\n",
       "      <td>7.786735</td>\n",
       "      <td>9.800922</td>\n",
       "      <td>-9.251956</td>\n",
       "      <td>15.176581</td>\n",
       "      <td>-18.379107</td>\n",
       "      <td>-9.908876</td>\n",
       "      <td>A</td>\n",
       "      <td>E</td>\n",
       "      <td>C</td>\n",
       "      <td>A</td>\n",
       "      <td>D</td>\n",
       "      <td>D</td>\n",
       "      <td>A</td>\n",
       "    </tr>\n",
       "    <tr>\n",
       "      <th>1</th>\n",
       "      <td>16.133239</td>\n",
       "      <td>-9.142534</td>\n",
       "      <td>-3.725612</td>\n",
       "      <td>17.414642</td>\n",
       "      <td>-7.843465</td>\n",
       "      <td>18.627253</td>\n",
       "      <td>-18.113234</td>\n",
       "      <td>0.756394</td>\n",
       "      <td>-1.713193</td>\n",
       "      <td>-4.080438</td>\n",
       "      <td>-0.039289</td>\n",
       "      <td>-18.243687</td>\n",
       "      <td>13.866427</td>\n",
       "      <td>-20.440775</td>\n",
       "      <td>16.021572</td>\n",
       "      <td>9.748852</td>\n",
       "      <td>-9.281247</td>\n",
       "      <td>15.068331</td>\n",
       "      <td>-5.934112</td>\n",
       "      <td>-8.621282</td>\n",
       "      <td>A</td>\n",
       "      <td>G</td>\n",
       "      <td>C</td>\n",
       "      <td>C</td>\n",
       "      <td>D</td>\n",
       "      <td>D</td>\n",
       "      <td>A</td>\n",
       "    </tr>\n",
       "    <tr>\n",
       "      <th>2</th>\n",
       "      <td>17.470780</td>\n",
       "      <td>-9.204687</td>\n",
       "      <td>-3.358596</td>\n",
       "      <td>17.203143</td>\n",
       "      <td>-7.927872</td>\n",
       "      <td>18.614991</td>\n",
       "      <td>-18.271812</td>\n",
       "      <td>0.260272</td>\n",
       "      <td>-1.711970</td>\n",
       "      <td>-4.214618</td>\n",
       "      <td>0.080986</td>\n",
       "      <td>-18.944783</td>\n",
       "      <td>14.500104</td>\n",
       "      <td>-20.450951</td>\n",
       "      <td>16.072552</td>\n",
       "      <td>9.784429</td>\n",
       "      <td>-9.290584</td>\n",
       "      <td>15.045586</td>\n",
       "      <td>15.246502</td>\n",
       "      <td>-8.754558</td>\n",
       "      <td>C</td>\n",
       "      <td>A</td>\n",
       "      <td>C</td>\n",
       "      <td>B</td>\n",
       "      <td>C</td>\n",
       "      <td>E</td>\n",
       "      <td>G</td>\n",
       "    </tr>\n",
       "    <tr>\n",
       "      <th>3</th>\n",
       "      <td>22.381915</td>\n",
       "      <td>-11.275073</td>\n",
       "      <td>-4.088679</td>\n",
       "      <td>17.198187</td>\n",
       "      <td>-7.903931</td>\n",
       "      <td>18.576920</td>\n",
       "      <td>-17.877085</td>\n",
       "      <td>1.246497</td>\n",
       "      <td>-8.933194</td>\n",
       "      <td>-4.442753</td>\n",
       "      <td>0.399733</td>\n",
       "      <td>-13.099715</td>\n",
       "      <td>16.949349</td>\n",
       "      <td>-10.314795</td>\n",
       "      <td>6.683148</td>\n",
       "      <td>9.785263</td>\n",
       "      <td>-9.319574</td>\n",
       "      <td>15.006916</td>\n",
       "      <td>19.514075</td>\n",
       "      <td>-7.496780</td>\n",
       "      <td>D</td>\n",
       "      <td>A</td>\n",
       "      <td>B</td>\n",
       "      <td>B</td>\n",
       "      <td>C</td>\n",
       "      <td>A</td>\n",
       "      <td>G</td>\n",
       "    </tr>\n",
       "    <tr>\n",
       "      <th>4</th>\n",
       "      <td>21.839868</td>\n",
       "      <td>-11.752235</td>\n",
       "      <td>-2.225605</td>\n",
       "      <td>17.663014</td>\n",
       "      <td>-7.439467</td>\n",
       "      <td>18.692687</td>\n",
       "      <td>-18.367903</td>\n",
       "      <td>-1.623479</td>\n",
       "      <td>-8.734139</td>\n",
       "      <td>-3.365932</td>\n",
       "      <td>-0.041798</td>\n",
       "      <td>-12.869065</td>\n",
       "      <td>17.059030</td>\n",
       "      <td>-10.724578</td>\n",
       "      <td>7.180757</td>\n",
       "      <td>9.707077</td>\n",
       "      <td>-9.231428</td>\n",
       "      <td>15.189461</td>\n",
       "      <td>-6.686045</td>\n",
       "      <td>-11.154692</td>\n",
       "      <td>B</td>\n",
       "      <td>F</td>\n",
       "      <td>C</td>\n",
       "      <td>B</td>\n",
       "      <td>A</td>\n",
       "      <td>D</td>\n",
       "      <td>D</td>\n",
       "    </tr>\n",
       "  </tbody>\n",
       "</table>\n",
       "</div>"
      ],
      "text/plain": [
       "          f1         f2        f3         f4        f5         f6         f7  \\\n",
       "0  21.754551  -9.061572 -6.260555  17.105104 -7.931253  18.665724 -20.574977   \n",
       "1  16.133239  -9.142534 -3.725612  17.414642 -7.843465  18.627253 -18.113234   \n",
       "2  17.470780  -9.204687 -3.358596  17.203143 -7.927872  18.614991 -18.271812   \n",
       "3  22.381915 -11.275073 -4.088679  17.198187 -7.903931  18.576920 -17.877085   \n",
       "4  21.839868 -11.752235 -2.225605  17.663014 -7.439467  18.692687 -18.367903   \n",
       "\n",
       "         f8        f9       f10       f11        f12        f13        f14  \\\n",
       "0  4.522313 -9.428453 -3.441898  0.063335 -12.128157  16.915358  -9.035745   \n",
       "1  0.756394 -1.713193 -4.080438 -0.039289 -18.243687  13.866427 -20.440775   \n",
       "2  0.260272 -1.711970 -4.214618  0.080986 -18.944783  14.500104 -20.450951   \n",
       "3  1.246497 -8.933194 -4.442753  0.399733 -13.099715  16.949349 -10.314795   \n",
       "4 -1.623479 -8.734139 -3.365932 -0.041798 -12.869065  17.059030 -10.724578   \n",
       "\n",
       "         f15       f16       f17        f18        f19        f20 f21 f22 f23  \\\n",
       "0   7.786735  9.800922 -9.251956  15.176581 -18.379107  -9.908876   A   E   C   \n",
       "1  16.021572  9.748852 -9.281247  15.068331  -5.934112  -8.621282   A   G   C   \n",
       "2  16.072552  9.784429 -9.290584  15.045586  15.246502  -8.754558   C   A   C   \n",
       "3   6.683148  9.785263 -9.319574  15.006916  19.514075  -7.496780   D   A   B   \n",
       "4   7.180757  9.707077 -9.231428  15.189461  -6.686045 -11.154692   B   F   C   \n",
       "\n",
       "  f24 f25 f26 f27  \n",
       "0   A   D   D   A  \n",
       "1   C   D   D   A  \n",
       "2   B   C   E   G  \n",
       "3   B   C   A   G  \n",
       "4   B   A   D   D  "
      ]
     },
     "execution_count": 2,
     "metadata": {},
     "output_type": "execute_result"
    }
   ],
   "source": [
    "train_main = pd.read_csv('train.csv')\n",
    "test_main = pd.read_csv('test.csv')\n",
    "\n",
    "# train drop\n",
    "y = train_main['class']\n",
    "train = train_main.drop(['id', 'class'], axis = 1)\n",
    "#test drop\n",
    "test = test_main.drop(['id'], axis = 1)\n",
    "\n",
    "train.head()"
   ]
  },
  {
   "cell_type": "code",
   "execution_count": 3,
   "metadata": {},
   "outputs": [
    {
     "data": {
      "text/html": [
       "<div>\n",
       "<style scoped>\n",
       "    .dataframe tbody tr th:only-of-type {\n",
       "        vertical-align: middle;\n",
       "    }\n",
       "\n",
       "    .dataframe tbody tr th {\n",
       "        vertical-align: top;\n",
       "    }\n",
       "\n",
       "    .dataframe thead th {\n",
       "        text-align: right;\n",
       "    }\n",
       "</style>\n",
       "<table border=\"1\" class=\"dataframe\">\n",
       "  <thead>\n",
       "    <tr style=\"text-align: right;\">\n",
       "      <th></th>\n",
       "      <th>f1</th>\n",
       "      <th>f2</th>\n",
       "      <th>f3</th>\n",
       "      <th>f4</th>\n",
       "      <th>f5</th>\n",
       "      <th>f6</th>\n",
       "      <th>f7</th>\n",
       "      <th>f8</th>\n",
       "      <th>f9</th>\n",
       "      <th>f10</th>\n",
       "      <th>f11</th>\n",
       "      <th>f12</th>\n",
       "      <th>f13</th>\n",
       "      <th>f14</th>\n",
       "      <th>f15</th>\n",
       "      <th>f16</th>\n",
       "      <th>f17</th>\n",
       "      <th>f18</th>\n",
       "      <th>f19</th>\n",
       "      <th>f20</th>\n",
       "      <th>f21</th>\n",
       "      <th>f22</th>\n",
       "      <th>f23</th>\n",
       "      <th>f24</th>\n",
       "      <th>f25</th>\n",
       "      <th>f26</th>\n",
       "      <th>f27</th>\n",
       "    </tr>\n",
       "  </thead>\n",
       "  <tbody>\n",
       "    <tr>\n",
       "      <th>0</th>\n",
       "      <td>21.754551</td>\n",
       "      <td>-9.061572</td>\n",
       "      <td>-6.260555</td>\n",
       "      <td>17.105104</td>\n",
       "      <td>-7.931253</td>\n",
       "      <td>18.665724</td>\n",
       "      <td>-20.574977</td>\n",
       "      <td>4.522313</td>\n",
       "      <td>-9.428453</td>\n",
       "      <td>-3.441898</td>\n",
       "      <td>0.063335</td>\n",
       "      <td>-12.128157</td>\n",
       "      <td>16.915358</td>\n",
       "      <td>-9.035745</td>\n",
       "      <td>7.786735</td>\n",
       "      <td>9.800922</td>\n",
       "      <td>-9.251956</td>\n",
       "      <td>15.176581</td>\n",
       "      <td>-18.379107</td>\n",
       "      <td>-9.908876</td>\n",
       "      <td>0</td>\n",
       "      <td>4</td>\n",
       "      <td>2</td>\n",
       "      <td>0</td>\n",
       "      <td>3</td>\n",
       "      <td>3</td>\n",
       "      <td>0</td>\n",
       "    </tr>\n",
       "    <tr>\n",
       "      <th>1</th>\n",
       "      <td>16.133239</td>\n",
       "      <td>-9.142534</td>\n",
       "      <td>-3.725612</td>\n",
       "      <td>17.414642</td>\n",
       "      <td>-7.843465</td>\n",
       "      <td>18.627253</td>\n",
       "      <td>-18.113234</td>\n",
       "      <td>0.756394</td>\n",
       "      <td>-1.713193</td>\n",
       "      <td>-4.080438</td>\n",
       "      <td>-0.039289</td>\n",
       "      <td>-18.243687</td>\n",
       "      <td>13.866427</td>\n",
       "      <td>-20.440775</td>\n",
       "      <td>16.021572</td>\n",
       "      <td>9.748852</td>\n",
       "      <td>-9.281247</td>\n",
       "      <td>15.068331</td>\n",
       "      <td>-5.934112</td>\n",
       "      <td>-8.621282</td>\n",
       "      <td>0</td>\n",
       "      <td>6</td>\n",
       "      <td>2</td>\n",
       "      <td>2</td>\n",
       "      <td>3</td>\n",
       "      <td>3</td>\n",
       "      <td>0</td>\n",
       "    </tr>\n",
       "    <tr>\n",
       "      <th>2</th>\n",
       "      <td>17.470780</td>\n",
       "      <td>-9.204687</td>\n",
       "      <td>-3.358596</td>\n",
       "      <td>17.203143</td>\n",
       "      <td>-7.927872</td>\n",
       "      <td>18.614991</td>\n",
       "      <td>-18.271812</td>\n",
       "      <td>0.260272</td>\n",
       "      <td>-1.711970</td>\n",
       "      <td>-4.214618</td>\n",
       "      <td>0.080986</td>\n",
       "      <td>-18.944783</td>\n",
       "      <td>14.500104</td>\n",
       "      <td>-20.450951</td>\n",
       "      <td>16.072552</td>\n",
       "      <td>9.784429</td>\n",
       "      <td>-9.290584</td>\n",
       "      <td>15.045586</td>\n",
       "      <td>15.246502</td>\n",
       "      <td>-8.754558</td>\n",
       "      <td>2</td>\n",
       "      <td>0</td>\n",
       "      <td>2</td>\n",
       "      <td>1</td>\n",
       "      <td>2</td>\n",
       "      <td>4</td>\n",
       "      <td>6</td>\n",
       "    </tr>\n",
       "    <tr>\n",
       "      <th>3</th>\n",
       "      <td>22.381915</td>\n",
       "      <td>-11.275073</td>\n",
       "      <td>-4.088679</td>\n",
       "      <td>17.198187</td>\n",
       "      <td>-7.903931</td>\n",
       "      <td>18.576920</td>\n",
       "      <td>-17.877085</td>\n",
       "      <td>1.246497</td>\n",
       "      <td>-8.933194</td>\n",
       "      <td>-4.442753</td>\n",
       "      <td>0.399733</td>\n",
       "      <td>-13.099715</td>\n",
       "      <td>16.949349</td>\n",
       "      <td>-10.314795</td>\n",
       "      <td>6.683148</td>\n",
       "      <td>9.785263</td>\n",
       "      <td>-9.319574</td>\n",
       "      <td>15.006916</td>\n",
       "      <td>19.514075</td>\n",
       "      <td>-7.496780</td>\n",
       "      <td>3</td>\n",
       "      <td>0</td>\n",
       "      <td>1</td>\n",
       "      <td>1</td>\n",
       "      <td>2</td>\n",
       "      <td>0</td>\n",
       "      <td>6</td>\n",
       "    </tr>\n",
       "    <tr>\n",
       "      <th>4</th>\n",
       "      <td>21.839868</td>\n",
       "      <td>-11.752235</td>\n",
       "      <td>-2.225605</td>\n",
       "      <td>17.663014</td>\n",
       "      <td>-7.439467</td>\n",
       "      <td>18.692687</td>\n",
       "      <td>-18.367903</td>\n",
       "      <td>-1.623479</td>\n",
       "      <td>-8.734139</td>\n",
       "      <td>-3.365932</td>\n",
       "      <td>-0.041798</td>\n",
       "      <td>-12.869065</td>\n",
       "      <td>17.059030</td>\n",
       "      <td>-10.724578</td>\n",
       "      <td>7.180757</td>\n",
       "      <td>9.707077</td>\n",
       "      <td>-9.231428</td>\n",
       "      <td>15.189461</td>\n",
       "      <td>-6.686045</td>\n",
       "      <td>-11.154692</td>\n",
       "      <td>1</td>\n",
       "      <td>5</td>\n",
       "      <td>2</td>\n",
       "      <td>1</td>\n",
       "      <td>0</td>\n",
       "      <td>3</td>\n",
       "      <td>3</td>\n",
       "    </tr>\n",
       "  </tbody>\n",
       "</table>\n",
       "</div>"
      ],
      "text/plain": [
       "          f1         f2        f3         f4        f5         f6         f7  \\\n",
       "0  21.754551  -9.061572 -6.260555  17.105104 -7.931253  18.665724 -20.574977   \n",
       "1  16.133239  -9.142534 -3.725612  17.414642 -7.843465  18.627253 -18.113234   \n",
       "2  17.470780  -9.204687 -3.358596  17.203143 -7.927872  18.614991 -18.271812   \n",
       "3  22.381915 -11.275073 -4.088679  17.198187 -7.903931  18.576920 -17.877085   \n",
       "4  21.839868 -11.752235 -2.225605  17.663014 -7.439467  18.692687 -18.367903   \n",
       "\n",
       "         f8        f9       f10       f11        f12        f13        f14  \\\n",
       "0  4.522313 -9.428453 -3.441898  0.063335 -12.128157  16.915358  -9.035745   \n",
       "1  0.756394 -1.713193 -4.080438 -0.039289 -18.243687  13.866427 -20.440775   \n",
       "2  0.260272 -1.711970 -4.214618  0.080986 -18.944783  14.500104 -20.450951   \n",
       "3  1.246497 -8.933194 -4.442753  0.399733 -13.099715  16.949349 -10.314795   \n",
       "4 -1.623479 -8.734139 -3.365932 -0.041798 -12.869065  17.059030 -10.724578   \n",
       "\n",
       "         f15       f16       f17        f18        f19        f20  f21  f22  \\\n",
       "0   7.786735  9.800922 -9.251956  15.176581 -18.379107  -9.908876    0    4   \n",
       "1  16.021572  9.748852 -9.281247  15.068331  -5.934112  -8.621282    0    6   \n",
       "2  16.072552  9.784429 -9.290584  15.045586  15.246502  -8.754558    2    0   \n",
       "3   6.683148  9.785263 -9.319574  15.006916  19.514075  -7.496780    3    0   \n",
       "4   7.180757  9.707077 -9.231428  15.189461  -6.686045 -11.154692    1    5   \n",
       "\n",
       "   f23  f24  f25  f26  f27  \n",
       "0    2    0    3    3    0  \n",
       "1    2    2    3    3    0  \n",
       "2    2    1    2    4    6  \n",
       "3    1    1    2    0    6  \n",
       "4    2    1    0    3    3  "
      ]
     },
     "execution_count": 3,
     "metadata": {},
     "output_type": "execute_result"
    }
   ],
   "source": [
    "enc = LabelEncoder()\n",
    "train['f21'] = enc.fit_transform(train['f21'])\n",
    "train['f22'] = enc.fit_transform(train['f22'])\n",
    "train['f23'] = enc.fit_transform(train['f23'])\n",
    "train['f24'] = enc.fit_transform(train['f24'])\n",
    "train['f25'] = enc.fit_transform(train['f25'])\n",
    "train['f26'] = enc.fit_transform(train['f26'])\n",
    "train['f27'] = enc.fit_transform(train['f27'])\n",
    "\n",
    "test['f21'] = enc.fit_transform(test['f21'])\n",
    "test['f22'] = enc.fit_transform(test['f22'])\n",
    "test['f23'] = enc.fit_transform(test['f23'])\n",
    "test['f24'] = enc.fit_transform(test['f24'])\n",
    "test['f25'] = enc.fit_transform(test['f25'])\n",
    "test['f26'] = enc.fit_transform(test['f26'])\n",
    "test['f27'] = enc.fit_transform(test['f27'])\n",
    "\n",
    "train.head()"
   ]
  },
  {
   "cell_type": "code",
   "execution_count": 4,
   "metadata": {},
   "outputs": [
    {
     "name": "stdout",
     "output_type": "stream",
     "text": [
      "(2654, 27) (664,)\n"
     ]
    }
   ],
   "source": [
    "X_train, X_test, y_train, y_test = train_test_split(train, y, test_size=0.2, random_state=42)\n",
    "\n",
    "print(np.shape(X_train), np.shape(y_test))"
   ]
  },
  {
   "cell_type": "code",
   "execution_count": null,
   "metadata": {},
   "outputs": [],
   "source": []
  },
  {
   "cell_type": "markdown",
   "metadata": {},
   "source": [
    "## Corr\n"
   ]
  },
  {
   "cell_type": "code",
   "execution_count": 134,
   "metadata": {},
   "outputs": [],
   "source": [
    "corr_matrix = train.corr()"
   ]
  },
  {
   "cell_type": "code",
   "execution_count": 56,
   "metadata": {
    "scrolled": true
   },
   "outputs": [
    {
     "name": "stdout",
     "output_type": "stream",
     "text": [
      "3\n",
      "4\n",
      "10\n",
      "15\n",
      "20\n",
      "22\n",
      "25\n",
      "27\n"
     ]
    }
   ],
   "source": [
    "a = abs(corr_matrix['class'])\n",
    "\n",
    "for num in range(len(a)):\n",
    "    if a[num] > 0.1:\n",
    "        print(num)"
   ]
  },
  {
   "cell_type": "code",
   "execution_count": 76,
   "metadata": {
    "scrolled": true
   },
   "outputs": [
    {
     "name": "stdout",
     "output_type": "stream",
     "text": [
      "(3318, 7)\n"
     ]
    },
    {
     "data": {
      "text/html": [
       "<div>\n",
       "<style scoped>\n",
       "    .dataframe tbody tr th:only-of-type {\n",
       "        vertical-align: middle;\n",
       "    }\n",
       "\n",
       "    .dataframe tbody tr th {\n",
       "        vertical-align: top;\n",
       "    }\n",
       "\n",
       "    .dataframe thead th {\n",
       "        text-align: right;\n",
       "    }\n",
       "</style>\n",
       "<table border=\"1\" class=\"dataframe\">\n",
       "  <thead>\n",
       "    <tr style=\"text-align: right;\">\n",
       "      <th></th>\n",
       "      <th>f4</th>\n",
       "      <th>f5</th>\n",
       "      <th>f11</th>\n",
       "      <th>f16</th>\n",
       "      <th>f21</th>\n",
       "      <th>f23</th>\n",
       "      <th>f26</th>\n",
       "    </tr>\n",
       "  </thead>\n",
       "  <tbody>\n",
       "    <tr>\n",
       "      <th>0</th>\n",
       "      <td>17.105104</td>\n",
       "      <td>-7.931253</td>\n",
       "      <td>0.063335</td>\n",
       "      <td>9.800922</td>\n",
       "      <td>0</td>\n",
       "      <td>2</td>\n",
       "      <td>3</td>\n",
       "    </tr>\n",
       "    <tr>\n",
       "      <th>1</th>\n",
       "      <td>17.414642</td>\n",
       "      <td>-7.843465</td>\n",
       "      <td>-0.039289</td>\n",
       "      <td>9.748852</td>\n",
       "      <td>0</td>\n",
       "      <td>2</td>\n",
       "      <td>3</td>\n",
       "    </tr>\n",
       "    <tr>\n",
       "      <th>2</th>\n",
       "      <td>17.203143</td>\n",
       "      <td>-7.927872</td>\n",
       "      <td>0.080986</td>\n",
       "      <td>9.784429</td>\n",
       "      <td>2</td>\n",
       "      <td>2</td>\n",
       "      <td>4</td>\n",
       "    </tr>\n",
       "    <tr>\n",
       "      <th>3</th>\n",
       "      <td>17.198187</td>\n",
       "      <td>-7.903931</td>\n",
       "      <td>0.399733</td>\n",
       "      <td>9.785263</td>\n",
       "      <td>3</td>\n",
       "      <td>1</td>\n",
       "      <td>0</td>\n",
       "    </tr>\n",
       "    <tr>\n",
       "      <th>4</th>\n",
       "      <td>17.663014</td>\n",
       "      <td>-7.439467</td>\n",
       "      <td>-0.041798</td>\n",
       "      <td>9.707077</td>\n",
       "      <td>1</td>\n",
       "      <td>2</td>\n",
       "      <td>3</td>\n",
       "    </tr>\n",
       "  </tbody>\n",
       "</table>\n",
       "</div>"
      ],
      "text/plain": [
       "          f4        f5       f11       f16  f21  f23  f26\n",
       "0  17.105104 -7.931253  0.063335  9.800922    0    2    3\n",
       "1  17.414642 -7.843465 -0.039289  9.748852    0    2    3\n",
       "2  17.203143 -7.927872  0.080986  9.784429    2    2    4\n",
       "3  17.198187 -7.903931  0.399733  9.785263    3    1    0\n",
       "4  17.663014 -7.439467 -0.041798  9.707077    1    2    3"
      ]
     },
     "execution_count": 76,
     "metadata": {},
     "output_type": "execute_result"
    }
   ],
   "source": [
    "corr_train = pd.DataFrame(train, columns = ['f4', 'f5', 'f11', 'f16', 'f21', 'f23', 'f26'])\n",
    "\n",
    "print(corr_train.shape)\n",
    "corr_train.head()"
   ]
  },
  {
   "cell_type": "code",
   "execution_count": 136,
   "metadata": {
    "scrolled": true
   },
   "outputs": [
    {
     "data": {
      "image/png": "[encoded data removed]",
      "text/plain": [
       "<Figure size 1152x1008 with 2 Axes>"
      ]
     },
     "metadata": {
      "needs_background": "light"
     },
     "output_type": "display_data"
    }
   ],
   "source": [
    "sns.heatmap(corr_matrix);"
   ]
  },
  {
   "cell_type": "markdown",
   "metadata": {},
   "source": [
    "## Sklearn feat select\n"
   ]
  },
  {
   "cell_type": "markdown",
   "metadata": {},
   "source": [
    "#### VarianceThreshold"
   ]
  },
  {
   "cell_type": "code",
   "execution_count": 68,
   "metadata": {},
   "outputs": [],
   "source": [
    "from sklearn.feature_selection import VarianceThreshold\n",
    "\n",
    "sel = VarianceThreshold(threshold=(.5 * (1 - .5)))\n",
    "X_new = sel.fit_transform(train)"
   ]
  },
  {
   "cell_type": "code",
   "execution_count": 69,
   "metadata": {},
   "outputs": [
    {
     "data": {
      "text/plain": [
       "(3318, 20)"
      ]
     },
     "execution_count": 69,
     "metadata": {},
     "output_type": "execute_result"
    }
   ],
   "source": [
    "X_new.shape"
   ]
  },
  {
   "cell_type": "markdown",
   "metadata": {},
   "source": [
    "#### SelectKBest"
   ]
  },
  {
   "cell_type": "code",
   "execution_count": 7,
   "metadata": {
    "scrolled": true
   },
   "outputs": [
    {
     "data": {
      "text/plain": [
       "(3318, 23)"
      ]
     },
     "execution_count": 7,
     "metadata": {},
     "output_type": "execute_result"
    }
   ],
   "source": [
    "from sklearn.feature_selection import SelectPercentile, f_classif, chi2, SelectKBest, mutual_info_classif\n",
    "\n",
    "X_new = SelectKBest(f_classif, k=23).fit_transform(train, y)\n",
    "X_new.shape"
   ]
  },
  {
   "cell_type": "markdown",
   "metadata": {},
   "source": [
    "#### Select from forest"
   ]
  },
  {
   "cell_type": "code",
   "execution_count": 82,
   "metadata": {},
   "outputs": [],
   "source": [
    "from sklearn.ensemble import ExtraTreesClassifier\n",
    "from sklearn.feature_selection import SelectFromModel"
   ]
  },
  {
   "cell_type": "code",
   "execution_count": 89,
   "metadata": {},
   "outputs": [
    {
     "data": {
      "text/plain": [
       "array([0.02354962, 0.03669586, 0.03478304, 0.04730181, 0.1017778 ,\n",
       "       0.04124878, 0.0304854 , 0.03423333, 0.02344416, 0.04589633,\n",
       "       0.0720404 , 0.02207121, 0.02175558, 0.02235739, 0.03085992,\n",
       "       0.04620494, 0.03571688, 0.04691303, 0.02052275, 0.02137605,\n",
       "       0.1106016 , 0.01908917, 0.02146209, 0.01899255, 0.02067306,\n",
       "       0.03157141, 0.01837583])"
      ]
     },
     "execution_count": 89,
     "metadata": {},
     "output_type": "execute_result"
    }
   ],
   "source": [
    "clf = ExtraTreesClassifier(n_estimators=150)\n",
    "clf = clf.fit(train, y)\n",
    "clf.feature_importances_"
   ]
  },
  {
   "cell_type": "code",
   "execution_count": 91,
   "metadata": {},
   "outputs": [
    {
     "data": {
      "text/plain": [
       "(3318, 8)"
      ]
     },
     "execution_count": 91,
     "metadata": {},
     "output_type": "execute_result"
    }
   ],
   "source": [
    "model = SelectFromModel(clf, prefit=True)\n",
    "X_new = model.transform(train)\n",
    "X_new.shape           "
   ]
  },
  {
   "cell_type": "markdown",
   "metadata": {},
   "source": [
    "#### TrTe split"
   ]
  },
  {
   "cell_type": "code",
   "execution_count": 9,
   "metadata": {},
   "outputs": [
    {
     "name": "stdout",
     "output_type": "stream",
     "text": [
      "(2654, 23) (664,)\n"
     ]
    }
   ],
   "source": [
    "X_train, X_test, y_train, y_test = train_test_split(X_new, y, test_size=0.2, random_state=42)\n",
    "\n",
    "print(np.shape(X_train), np.shape(y_test))"
   ]
  },
  {
   "cell_type": "code",
   "execution_count": null,
   "metadata": {},
   "outputs": [],
   "source": []
  },
  {
   "cell_type": "markdown",
   "metadata": {},
   "source": [
    "# MAKE classifires"
   ]
  },
  {
   "cell_type": "markdown",
   "metadata": {},
   "source": [
    "### XGB"
   ]
  },
  {
   "cell_type": "code",
   "execution_count": 10,
   "metadata": {},
   "outputs": [],
   "source": [
    "best_params = {\n",
    "    'eval_metric': 'mlogloss', \n",
    "    'learning_rate': 0.01, \n",
    "    'max_depth': 13, \n",
    "    'n_estimators': 1500, \n",
    "    'subsample': 0.8, \n",
    "    'random_state': 42\n",
    "}"
   ]
  },
  {
   "cell_type": "code",
   "execution_count": 11,
   "metadata": {},
   "outputs": [
    {
     "name": "stdout",
     "output_type": "stream",
     "text": [
      "XGBClassifier(base_score=0.5, booster='gbtree', colsample_bylevel=1,\n",
      "       colsample_bytree=1, eval_metric='mlogloss', gamma=0,\n",
      "       learning_rate=0.01, max_delta_step=0, max_depth=13,\n",
      "       min_child_weight=1, missing=None, n_estimators=1500, n_jobs=1,\n",
      "       nthread=None, objective='multi:softprob', random_state=42,\n",
      "       reg_alpha=0, reg_lambda=1, scale_pos_weight=1, seed=None,\n",
      "       silent=True, subsample=0.8)\n"
     ]
    }
   ],
   "source": [
    "xgb_model = XGBClassifier(**best_params).fit(X_train, y_train)\n",
    "\n",
    "print(xgb_model)"
   ]
  },
  {
   "cell_type": "code",
   "execution_count": 12,
   "metadata": {},
   "outputs": [
    {
     "name": "stderr",
     "output_type": "stream",
     "text": [
      "/home/r/.conda/envs/mainpy/lib/python3.6/site-packages/sklearn/preprocessing/label.py:151: DeprecationWarning: The truth value of an empty array is ambiguous. Returning False, but in future this will result in an error. Use `array.size > 0` to check that an array is not empty.\n",
      "  if diff:\n"
     ]
    }
   ],
   "source": [
    "predicted_labels = xgb_model.predict(X_test)"
   ]
  },
  {
   "cell_type": "code",
   "execution_count": 13,
   "metadata": {},
   "outputs": [
    {
     "name": "stdout",
     "output_type": "stream",
     "text": [
      "Accuracy on the test set is: 0.78614\n"
     ]
    }
   ],
   "source": [
    "from sklearn.metrics import accuracy_score\n",
    "\n",
    "print(\"Accuracy on the test set is: {}\".format(\n",
    "    round(accuracy_score(y_test, predicted_labels), 5)))"
   ]
  },
  {
   "cell_type": "markdown",
   "metadata": {},
   "source": [
    "## CV"
   ]
  },
  {
   "cell_type": "code",
   "execution_count": 272,
   "metadata": {
    "scrolled": true
   },
   "outputs": [
    {
     "name": "stdout",
     "output_type": "stream",
     "text": [
      "Fitting 3 folds for each of 2970 candidates, totalling 8910 fits\n"
     ]
    },
    {
     "name": "stderr",
     "output_type": "stream",
     "text": [
      "[Parallel(n_jobs=-1)]: Done  34 tasks      | elapsed:  2.6min\n",
      "[Parallel(n_jobs=-1)]: Done 184 tasks      | elapsed: 18.5min\n",
      "[Parallel(n_jobs=-1)]: Done 434 tasks      | elapsed: 48.3min\n",
      "[Parallel(n_jobs=-1)]: Done 784 tasks      | elapsed: 98.6min\n",
      "[Parallel(n_jobs=-1)]: Done 1234 tasks      | elapsed: 169.2min\n",
      "[Parallel(n_jobs=-1)]: Done 1784 tasks      | elapsed: 265.8min\n",
      "[Parallel(n_jobs=-1)]: Done 2434 tasks      | elapsed: 340.8min\n",
      "[Parallel(n_jobs=-1)]: Done 3184 tasks      | elapsed: 446.7min\n",
      "[Parallel(n_jobs=-1)]: Done 4034 tasks      | elapsed: 539.7min\n",
      "[Parallel(n_jobs=-1)]: Done 4984 tasks      | elapsed: 606.8min\n",
      "[Parallel(n_jobs=-1)]: Done 6034 tasks      | elapsed: 653.3min\n",
      "[Parallel(n_jobs=-1)]: Done 7184 tasks      | elapsed: 687.2min\n",
      "[Parallel(n_jobs=-1)]: Done 8434 tasks      | elapsed: 707.1min\n",
      "[Parallel(n_jobs=-1)]: Done 8910 out of 8910 | elapsed: 714.7min finished\n"
     ]
    },
    {
     "data": {
      "text/plain": [
       "GridSearchCV(cv=3, error_score='raise',\n",
       "       estimator=XGBClassifier(base_score=0.5, booster='gbtree', colsample_bylevel=1,\n",
       "       colsample_bytree=1, eval_metric='mlogloss', gamma=0,\n",
       "       learning_rate=0.046415888336127774, max_delta_step=0, max_depth=13,\n",
       "       min_child_weight=1, missing=None, n_estimators=900, n_jobs=1,\n",
       "       nthread=None, objective='multi:softprob', random_state=42,\n",
       "       reg_alpha=0, reg_lambda=1, scale_pos_weight=1, seed=None,\n",
       "       silent=True, subsample=0.7),\n",
       "       fit_params=None, iid=True, n_jobs=-1,\n",
       "       param_grid={'n_estimators': range(700, 1501, 100), 'learning_rate': array([1.e-03, 1.e-02, 1.e-01, 1.e+00, 1.e+01]), 'subsample': [0.4, 0.5, 0.6, 0.7, 0.7999999999999999, 0.8999999999999999], 'max_depth': range(5, 16)},\n",
       "       pre_dispatch='2*n_jobs', refit=True, return_train_score='warn',\n",
       "       scoring=None, verbose=True)"
      ]
     },
     "execution_count": 272,
     "metadata": {},
     "output_type": "execute_result"
    }
   ],
   "source": [
    "grad_params = {'n_estimators': range(700, 1501, 100),\n",
    "               'learning_rate': np.logspace(-3, 1, 5),\n",
    "               'subsample': list(np.arange(0.4, 1, 0.1)),\n",
    "              'max_depth': range(5, 16, 1),\n",
    "             }\n",
    "\n",
    "\n",
    "grad_grid = GridSearchCV(xgb_model, grad_params,\n",
    "                         cv=3, n_jobs=-1,\n",
    "                         verbose=True)\n",
    "\n",
    "grad_grid.fit(X_train, y_train)"
   ]
  },
  {
   "cell_type": "code",
   "execution_count": 273,
   "metadata": {},
   "outputs": [
    {
     "name": "stdout",
     "output_type": "stream",
     "text": [
      "Лучшие параметры: {'learning_rate': 0.01, 'max_depth': 13, 'n_estimators': 1500, 'subsample': 0.7999999999999999}\n",
      "Результат на них: 0.7748643761301989\n",
      "nan\n"
     ]
    }
   ],
   "source": [
    "#Лучшее сочетание параметров и соответствующая средняя доля правильных ответов на кросс-валидации:\n",
    "print('Лучшие параметры: {}\\nРезультат на них: {}'.format(grad_grid.best_params_, grad_grid.best_score_))\n",
    "\n",
    "\n",
    "print(accuracy_score(y_test, grad_grid.predict(X_test)))"
   ]
  },
  {
   "cell_type": "code",
   "execution_count": 274,
   "metadata": {},
   "outputs": [],
   "source": [
    "f = open('BEST params.txt', 'w')\n",
    "f.write(str(grad_grid.best_params_))\n",
    "f.close()"
   ]
  },
  {
   "cell_type": "markdown",
   "metadata": {},
   "source": [
    "## RF"
   ]
  },
  {
   "cell_type": "code",
   "execution_count": 40,
   "metadata": {},
   "outputs": [],
   "source": [
    "params = {\n",
    "    'n_estimators': 1500,\n",
    "    'max_depth': None,\n",
    "    'max_leaf_nodes': None,\n",
    "    'random_state': 42,\n",
    "    'n_jobs': -1\n",
    "}"
   ]
  },
  {
   "cell_type": "code",
   "execution_count": 41,
   "metadata": {},
   "outputs": [
    {
     "name": "stdout",
     "output_type": "stream",
     "text": [
      "RandomForestClassifier(bootstrap=True, class_weight=None, criterion='gini',\n",
      "            max_depth=None, max_features='auto', max_leaf_nodes=None,\n",
      "            min_impurity_decrease=0.0, min_impurity_split=None,\n",
      "            min_samples_leaf=1, min_samples_split=2,\n",
      "            min_weight_fraction_leaf=0.0, n_estimators=1500, n_jobs=-1,\n",
      "            oob_score=False, random_state=42, verbose=0, warm_start=False)\n"
     ]
    }
   ],
   "source": [
    "from sklearn.ensemble import RandomForestClassifier\n",
    "\n",
    "rf_model = RandomForestClassifier(**params).fit(X_train, y_train)\n",
    "\n",
    "print(rf_model)\n",
    "\n",
    "predicted_labels = rf_model.predict(X_test)"
   ]
  },
  {
   "cell_type": "code",
   "execution_count": 42,
   "metadata": {},
   "outputs": [
    {
     "name": "stdout",
     "output_type": "stream",
     "text": [
      "Accuracy on the test set is: 0.74849\n"
     ]
    }
   ],
   "source": [
    "print(\"Accuracy on the test set is: {}\".format(\n",
    "    round(accuracy_score(y_test, predicted_labels), 5)))"
   ]
  },
  {
   "cell_type": "code",
   "execution_count": null,
   "metadata": {},
   "outputs": [],
   "source": []
  },
  {
   "cell_type": "code",
   "execution_count": null,
   "metadata": {},
   "outputs": [],
   "source": []
  },
  {
   "cell_type": "markdown",
   "metadata": {},
   "source": [
    "### Save results"
   ]
  },
  {
   "cell_type": "code",
   "execution_count": 287,
   "metadata": {},
   "outputs": [],
   "source": [
    "a = np.arange(1, 6634, 2)\n",
    "predictios = xgb_model.predict(np.asarray(test.drop(['f8', 'f27', 'f20', 'f22'], axis = 1)))"
   ]
  },
  {
   "cell_type": "code",
   "execution_count": 288,
   "metadata": {},
   "outputs": [
    {
     "data": {
      "text/plain": [
       "array(['E', 'G', 'F', ..., 'A', 'A', 'B'], dtype=object)"
      ]
     },
     "execution_count": 288,
     "metadata": {},
     "output_type": "execute_result"
    }
   ],
   "source": [
    "predictios"
   ]
  },
  {
   "cell_type": "code",
   "execution_count": 289,
   "metadata": {},
   "outputs": [
    {
     "data": {
      "text/html": [
       "<div>\n",
       "<style scoped>\n",
       "    .dataframe tbody tr th:only-of-type {\n",
       "        vertical-align: middle;\n",
       "    }\n",
       "\n",
       "    .dataframe tbody tr th {\n",
       "        vertical-align: top;\n",
       "    }\n",
       "\n",
       "    .dataframe thead th {\n",
       "        text-align: right;\n",
       "    }\n",
       "</style>\n",
       "<table border=\"1\" class=\"dataframe\">\n",
       "  <thead>\n",
       "    <tr style=\"text-align: right;\">\n",
       "      <th></th>\n",
       "      <th>id</th>\n",
       "      <th>class</th>\n",
       "    </tr>\n",
       "  </thead>\n",
       "  <tbody>\n",
       "    <tr>\n",
       "      <th>0</th>\n",
       "      <td>1</td>\n",
       "      <td>E</td>\n",
       "    </tr>\n",
       "    <tr>\n",
       "      <th>1</th>\n",
       "      <td>3</td>\n",
       "      <td>G</td>\n",
       "    </tr>\n",
       "    <tr>\n",
       "      <th>2</th>\n",
       "      <td>5</td>\n",
       "      <td>F</td>\n",
       "    </tr>\n",
       "    <tr>\n",
       "      <th>3</th>\n",
       "      <td>7</td>\n",
       "      <td>G</td>\n",
       "    </tr>\n",
       "    <tr>\n",
       "      <th>4</th>\n",
       "      <td>9</td>\n",
       "      <td>G</td>\n",
       "    </tr>\n",
       "  </tbody>\n",
       "</table>\n",
       "</div>"
      ],
      "text/plain": [
       "   id class\n",
       "0   1     E\n",
       "1   3     G\n",
       "2   5     F\n",
       "3   7     G\n",
       "4   9     G"
      ]
     },
     "execution_count": 289,
     "metadata": {},
     "output_type": "execute_result"
    }
   ],
   "source": [
    "d = {'id': a, 'class': predictios}\n",
    "\n",
    "df = pd.DataFrame(d, columns = None)\n",
    "df.head()"
   ]
  },
  {
   "cell_type": "code",
   "execution_count": 290,
   "metadata": {
    "scrolled": true
   },
   "outputs": [],
   "source": [
    "df.to_csv('MYsample.csv', index = False)"
   ]
  },
  {
   "cell_type": "code",
   "execution_count": null,
   "metadata": {},
   "outputs": [],
   "source": []
  }
 ],
 "metadata": {
  "kernelspec": {
   "display_name": "mainpy",
   "language": "python",
   "name": "mainpy"
  },
  "language_info": {
   "codemirror_mode": {
    "name": "ipython",
    "version": 3
   },
   "file_extension": ".py",
   "mimetype": "text/x-python",
   "name": "python",
   "nbconvert_exporter": "python",
   "pygments_lexer": "ipython3",
   "version": "3.6.6"
  }
 },
 "nbformat": 4,
 "nbformat_minor": 2
}
